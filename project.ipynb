{
 "cells": [
  {
   "cell_type": "raw",
   "metadata": {},
   "source": [
    "Tasks:\n",
    "    +-preprocess data (summary & text)\n",
    "        +-Manually find stop words\n",
    "    +-word embedding\n",
    "    +-model -> ANN, n-gram/bayes        \n",
    "    -find words that discriminate between bad/good review\n",
    "    No-data augmentation?        \n",
    "    -try on different dataset\n",
    "    -try to interpret data / find information from the model\n",
    "        -hate, dislike like, love"
   ]
  },
  {
   "cell_type": "code",
   "execution_count": 1,
   "metadata": {},
   "outputs": [],
   "source": [
    "%load_ext autoreload\n",
    "%autoreload 2"
   ]
  },
  {
   "cell_type": "code",
   "execution_count": 2,
   "metadata": {},
   "outputs": [
    {
     "name": "stderr",
     "output_type": "stream",
     "text": [
      "Using TensorFlow backend.\n"
     ]
    }
   ],
   "source": [
    "%matplotlib inline\n",
    "import matplotlib.pyplot as plt\n",
    "import numpy as np\n",
    "import pandas as pd\n",
    "import scipy as sc\n",
    "import sklearn\n",
    "import sklearn.feature_extraction\n",
    "import keras\n",
    "import gensim.downloader as api\n",
    "\n",
    "from sklearn.model_selection import train_test_split, StratifiedShuffleSplit\n",
    "from sklearn.dummy import DummyClassifier\n",
    "from sklearn.metrics import confusion_matrix, classification_report\n",
    "from sklearn.preprocessing import LabelBinarizer\n",
    "\n",
    "from keras import Sequential\n",
    "from keras.preprocessing.text import Tokenizer\n",
    "from keras.preprocessing.sequence import pad_sequences\n",
    "from keras.layers import Dense, LSTM, Conv1D, MaxPooling1D, GlobalMaxPooling1D, Embedding\n",
    "\n",
    "from collections import Counter\n",
    "from time import time\n",
    "\n",
    "from StatModel import BayesModel\n"
   ]
  },
  {
   "cell_type": "markdown",
   "metadata": {},
   "source": [
    "## Settings"
   ]
  },
  {
   "cell_type": "code",
   "execution_count": 3,
   "metadata": {},
   "outputs": [],
   "source": [
    "#Data used for train, validation and test\n",
    "data_path = r\"Data/amazon-fine-food-reviews/Reviews.csv\"\n",
    "\n",
    "#Used to check if the model can generalize to a diffrent context\n",
    "alt_data_path = r\"Data/steam_reviews.csv\"\n",
    "\n",
    "model_path = r\"Models/\""
   ]
  },
  {
   "cell_type": "code",
   "execution_count": 4,
   "metadata": {},
   "outputs": [],
   "source": [
    "# Split of the original dataset\n",
    "train_ratio = 0.8\n",
    "val_ratio = 0.1\n",
    "test_ratio = 0.1\n",
    "\n",
    "#Further size reduction to fit in memory and to run the scriptin reasonable time\n",
    "max_size = 30000\n",
    "random = 42"
   ]
  },
  {
   "cell_type": "code",
   "execution_count": 5,
   "metadata": {},
   "outputs": [],
   "source": [
    "# Ignore words with freq <= freq_cutoff\n",
    "# From frequ distribution\n",
    "# (not used)\n",
    "freq_cutoff = 10\n",
    "\n",
    "# Cut reviews larger than seq_len -> do not fin in memory :(\n",
    "#-> take first seq_len tokens\n",
    "#(used)\n",
    "seq_len = 500"
   ]
  },
  {
   "cell_type": "code",
   "execution_count": 6,
   "metadata": {},
   "outputs": [],
   "source": [
    "epochs = 2\n",
    "class_size = 5"
   ]
  },
  {
   "cell_type": "markdown",
   "metadata": {},
   "source": [
    "## Load Data"
   ]
  },
  {
   "cell_type": "code",
   "execution_count": 7,
   "metadata": {},
   "outputs": [],
   "source": [
    "data = pd.read_csv(data_path)\n",
    "#Missing data -> empty string\n",
    "data[\"Summary\"].fillna(\"\", inplace=True)\n",
    "data[\"Text\"].fillna(\"\", inplace=True)"
   ]
  },
  {
   "cell_type": "markdown",
   "metadata": {},
   "source": [
    "## Data Exploration"
   ]
  },
  {
   "cell_type": "code",
   "execution_count": 9,
   "metadata": {
    "scrolled": false
   },
   "outputs": [
    {
     "data": {
      "text/html": [
       "<div>\n",
       "<style scoped>\n",
       "    .dataframe tbody tr th:only-of-type {\n",
       "        vertical-align: middle;\n",
       "    }\n",
       "\n",
       "    .dataframe tbody tr th {\n",
       "        vertical-align: top;\n",
       "    }\n",
       "\n",
       "    .dataframe thead th {\n",
       "        text-align: right;\n",
       "    }\n",
       "</style>\n",
       "<table border=\"1\" class=\"dataframe\">\n",
       "  <thead>\n",
       "    <tr style=\"text-align: right;\">\n",
       "      <th></th>\n",
       "      <th>Id</th>\n",
       "      <th>ProductId</th>\n",
       "      <th>UserId</th>\n",
       "      <th>ProfileName</th>\n",
       "      <th>HelpfulnessNumerator</th>\n",
       "      <th>HelpfulnessDenominator</th>\n",
       "      <th>Score</th>\n",
       "      <th>Time</th>\n",
       "      <th>Summary</th>\n",
       "      <th>Text</th>\n",
       "    </tr>\n",
       "  </thead>\n",
       "  <tbody>\n",
       "    <tr>\n",
       "      <th>0</th>\n",
       "      <td>1</td>\n",
       "      <td>B001E4KFG0</td>\n",
       "      <td>A3SGXH7AUHU8GW</td>\n",
       "      <td>delmartian</td>\n",
       "      <td>1</td>\n",
       "      <td>1</td>\n",
       "      <td>5</td>\n",
       "      <td>1303862400</td>\n",
       "      <td>Good Quality Dog Food</td>\n",
       "      <td>I have bought several of the Vitality canned d...</td>\n",
       "    </tr>\n",
       "    <tr>\n",
       "      <th>1</th>\n",
       "      <td>2</td>\n",
       "      <td>B00813GRG4</td>\n",
       "      <td>A1D87F6ZCVE5NK</td>\n",
       "      <td>dll pa</td>\n",
       "      <td>0</td>\n",
       "      <td>0</td>\n",
       "      <td>1</td>\n",
       "      <td>1346976000</td>\n",
       "      <td>Not as Advertised</td>\n",
       "      <td>Product arrived labeled as Jumbo Salted Peanut...</td>\n",
       "    </tr>\n",
       "    <tr>\n",
       "      <th>2</th>\n",
       "      <td>3</td>\n",
       "      <td>B000LQOCH0</td>\n",
       "      <td>ABXLMWJIXXAIN</td>\n",
       "      <td>Natalia Corres \"Natalia Corres\"</td>\n",
       "      <td>1</td>\n",
       "      <td>1</td>\n",
       "      <td>4</td>\n",
       "      <td>1219017600</td>\n",
       "      <td>\"Delight\" says it all</td>\n",
       "      <td>This is a confection that has been around a fe...</td>\n",
       "    </tr>\n",
       "    <tr>\n",
       "      <th>3</th>\n",
       "      <td>4</td>\n",
       "      <td>B000UA0QIQ</td>\n",
       "      <td>A395BORC6FGVXV</td>\n",
       "      <td>Karl</td>\n",
       "      <td>3</td>\n",
       "      <td>3</td>\n",
       "      <td>2</td>\n",
       "      <td>1307923200</td>\n",
       "      <td>Cough Medicine</td>\n",
       "      <td>If you are looking for the secret ingredient i...</td>\n",
       "    </tr>\n",
       "    <tr>\n",
       "      <th>4</th>\n",
       "      <td>5</td>\n",
       "      <td>B006K2ZZ7K</td>\n",
       "      <td>A1UQRSCLF8GW1T</td>\n",
       "      <td>Michael D. Bigham \"M. Wassir\"</td>\n",
       "      <td>0</td>\n",
       "      <td>0</td>\n",
       "      <td>5</td>\n",
       "      <td>1350777600</td>\n",
       "      <td>Great taffy</td>\n",
       "      <td>Great taffy at a great price.  There was a wid...</td>\n",
       "    </tr>\n",
       "  </tbody>\n",
       "</table>\n",
       "</div>"
      ],
      "text/plain": [
       "   Id   ProductId          UserId                      ProfileName  \\\n",
       "0   1  B001E4KFG0  A3SGXH7AUHU8GW                       delmartian   \n",
       "1   2  B00813GRG4  A1D87F6ZCVE5NK                           dll pa   \n",
       "2   3  B000LQOCH0   ABXLMWJIXXAIN  Natalia Corres \"Natalia Corres\"   \n",
       "3   4  B000UA0QIQ  A395BORC6FGVXV                             Karl   \n",
       "4   5  B006K2ZZ7K  A1UQRSCLF8GW1T    Michael D. Bigham \"M. Wassir\"   \n",
       "\n",
       "   HelpfulnessNumerator  HelpfulnessDenominator  Score        Time  \\\n",
       "0                     1                       1      5  1303862400   \n",
       "1                     0                       0      1  1346976000   \n",
       "2                     1                       1      4  1219017600   \n",
       "3                     3                       3      2  1307923200   \n",
       "4                     0                       0      5  1350777600   \n",
       "\n",
       "                 Summary                                               Text  \n",
       "0  Good Quality Dog Food  I have bought several of the Vitality canned d...  \n",
       "1      Not as Advertised  Product arrived labeled as Jumbo Salted Peanut...  \n",
       "2  \"Delight\" says it all  This is a confection that has been around a fe...  \n",
       "3         Cough Medicine  If you are looking for the secret ingredient i...  \n",
       "4            Great taffy  Great taffy at a great price.  There was a wid...  "
      ]
     },
     "execution_count": 9,
     "metadata": {},
     "output_type": "execute_result"
    }
   ],
   "source": [
    "data.head()"
   ]
  },
  {
   "cell_type": "code",
   "execution_count": 10,
   "metadata": {},
   "outputs": [
    {
     "data": {
      "text/html": [
       "<div>\n",
       "<style scoped>\n",
       "    .dataframe tbody tr th:only-of-type {\n",
       "        vertical-align: middle;\n",
       "    }\n",
       "\n",
       "    .dataframe tbody tr th {\n",
       "        vertical-align: top;\n",
       "    }\n",
       "\n",
       "    .dataframe thead th {\n",
       "        text-align: right;\n",
       "    }\n",
       "</style>\n",
       "<table border=\"1\" class=\"dataframe\">\n",
       "  <thead>\n",
       "    <tr style=\"text-align: right;\">\n",
       "      <th></th>\n",
       "      <th>Id</th>\n",
       "      <th>HelpfulnessNumerator</th>\n",
       "      <th>HelpfulnessDenominator</th>\n",
       "      <th>Score</th>\n",
       "      <th>Time</th>\n",
       "    </tr>\n",
       "  </thead>\n",
       "  <tbody>\n",
       "    <tr>\n",
       "      <th>count</th>\n",
       "      <td>568454.000000</td>\n",
       "      <td>568454.000000</td>\n",
       "      <td>568454.00000</td>\n",
       "      <td>568454.000000</td>\n",
       "      <td>5.684540e+05</td>\n",
       "    </tr>\n",
       "    <tr>\n",
       "      <th>mean</th>\n",
       "      <td>284227.500000</td>\n",
       "      <td>1.743817</td>\n",
       "      <td>2.22881</td>\n",
       "      <td>4.183199</td>\n",
       "      <td>1.296257e+09</td>\n",
       "    </tr>\n",
       "    <tr>\n",
       "      <th>std</th>\n",
       "      <td>164098.679298</td>\n",
       "      <td>7.636513</td>\n",
       "      <td>8.28974</td>\n",
       "      <td>1.310436</td>\n",
       "      <td>4.804331e+07</td>\n",
       "    </tr>\n",
       "    <tr>\n",
       "      <th>min</th>\n",
       "      <td>1.000000</td>\n",
       "      <td>0.000000</td>\n",
       "      <td>0.00000</td>\n",
       "      <td>1.000000</td>\n",
       "      <td>9.393408e+08</td>\n",
       "    </tr>\n",
       "    <tr>\n",
       "      <th>25%</th>\n",
       "      <td>142114.250000</td>\n",
       "      <td>0.000000</td>\n",
       "      <td>0.00000</td>\n",
       "      <td>4.000000</td>\n",
       "      <td>1.271290e+09</td>\n",
       "    </tr>\n",
       "    <tr>\n",
       "      <th>50%</th>\n",
       "      <td>284227.500000</td>\n",
       "      <td>0.000000</td>\n",
       "      <td>1.00000</td>\n",
       "      <td>5.000000</td>\n",
       "      <td>1.311120e+09</td>\n",
       "    </tr>\n",
       "    <tr>\n",
       "      <th>75%</th>\n",
       "      <td>426340.750000</td>\n",
       "      <td>2.000000</td>\n",
       "      <td>2.00000</td>\n",
       "      <td>5.000000</td>\n",
       "      <td>1.332720e+09</td>\n",
       "    </tr>\n",
       "    <tr>\n",
       "      <th>max</th>\n",
       "      <td>568454.000000</td>\n",
       "      <td>866.000000</td>\n",
       "      <td>923.00000</td>\n",
       "      <td>5.000000</td>\n",
       "      <td>1.351210e+09</td>\n",
       "    </tr>\n",
       "  </tbody>\n",
       "</table>\n",
       "</div>"
      ],
      "text/plain": [
       "                  Id  HelpfulnessNumerator  HelpfulnessDenominator  \\\n",
       "count  568454.000000         568454.000000            568454.00000   \n",
       "mean   284227.500000              1.743817                 2.22881   \n",
       "std    164098.679298              7.636513                 8.28974   \n",
       "min         1.000000              0.000000                 0.00000   \n",
       "25%    142114.250000              0.000000                 0.00000   \n",
       "50%    284227.500000              0.000000                 1.00000   \n",
       "75%    426340.750000              2.000000                 2.00000   \n",
       "max    568454.000000            866.000000               923.00000   \n",
       "\n",
       "               Score          Time  \n",
       "count  568454.000000  5.684540e+05  \n",
       "mean        4.183199  1.296257e+09  \n",
       "std         1.310436  4.804331e+07  \n",
       "min         1.000000  9.393408e+08  \n",
       "25%         4.000000  1.271290e+09  \n",
       "50%         5.000000  1.311120e+09  \n",
       "75%         5.000000  1.332720e+09  \n",
       "max         5.000000  1.351210e+09  "
      ]
     },
     "execution_count": 10,
     "metadata": {},
     "output_type": "execute_result"
    }
   ],
   "source": [
    "#Score is unbalanced\n",
    "#More than 50% has 5 starts\n",
    "data.describe()"
   ]
  },
  {
   "cell_type": "code",
   "execution_count": 7,
   "metadata": {
    "scrolled": true
   },
   "outputs": [
    {
     "data": {
      "image/png": "[encoded data removed]",
      "text/plain": [
       "<Figure size 432x288 with 1 Axes>"
      ]
     },
     "metadata": {
      "needs_background": "light"
     },
     "output_type": "display_data"
    },
    {
     "data": {
      "text/plain": [
       "[52268, 29769, 42640, 80655, 363122]"
      ]
     },
     "execution_count": 7,
     "metadata": {},
     "output_type": "execute_result"
    }
   ],
   "source": [
    "#Label distribution\n",
    "classes = plt.hist(data[\"Score\"], [0.5*i for i in range(1, 12)])\n",
    "plt.title(\"Score distribution\")\n",
    "plt.ylabel(\"Count\")\n",
    "plt.xlabel(\"Score\")\n",
    "plt.grid(True)\n",
    "plt.show()\n",
    "\n",
    "classes = classes[0]\n",
    "classes = [int(classes[i]) for i in range(len(classes)) if i%2!=0]\n",
    "classes"
   ]
  },
  {
   "cell_type": "code",
   "execution_count": 10,
   "metadata": {},
   "outputs": [],
   "source": [
    "#Tokenizer to count types and tokens\n",
    "t = Tokenizer()\n",
    "\n",
    "t.fit_on_texts(data[\"Text\"])\n",
    "t.fit_on_texts(data[\"Summary\"])"
   ]
  },
  {
   "cell_type": "code",
   "execution_count": 11,
   "metadata": {
    "scrolled": true
   },
   "outputs": [
    {
     "name": "stdout",
     "output_type": "stream",
     "text": [
      "Types: 139510\n",
      "Tokens: 48795748\n",
      "Types/Tokens: 0.0028590605886398136\n",
      "1 : 1928057 \t- the\n",
      "2 : 1529631 \t- i\n",
      "3 : 1325111 \t- and\n",
      "4 : 1276799 \t- a\n",
      "5 : 1036737 \t- to\n",
      "6 : 960720 \t- it\n",
      "7 : 822664 \t- of\n",
      "8 : 753208 \t- is\n",
      "9 : 699261 \t- this\n",
      "10 : 647090 \t- br\n",
      "11 : 593065 \t- for\n",
      "12 : 562221 \t- in\n",
      "13 : 493082 \t- my\n",
      "14 : 436769 \t- that\n",
      "15 : 401648 \t- but\n",
      "16 : 368806 \t- not\n",
      "17 : 363328 \t- with\n",
      "18 : 350294 \t- have\n",
      "19 : 344135 \t- you\n",
      "20 : 326695 \t- are\n",
      "21 : 319108 \t- was\n",
      "22 : 292600 \t- they\n",
      "23 : 289587 \t- as\n",
      "24 : 280536 \t- on\n",
      "25 : 269597 \t- like\n",
      "26 : 265298 \t- so\n",
      "27 : 252448 \t- good\n",
      "28 : 247304 \t- these\n",
      "29 : 240259 \t- great\n",
      "30 : 218176 \t- them\n",
      "31 : 193875 \t- be\n",
      "32 : 191103 \t- coffee\n",
      "33 : 190605 \t- taste\n",
      "34 : 187410 \t- product\n",
      "35 : 185910 \t- at\n",
      "36 : 184839 \t- or\n",
      "37 : 183578 \t- very\n",
      "38 : 181537 \t- one\n",
      "39 : 180055 \t- just\n",
      "40 : 174561 \t- if\n",
      "41 : 165204 \t- all\n",
      "42 : 161549 \t- flavor\n",
      "43 : 159491 \t- tea\n",
      "44 : 155033 \t- love\n",
      "45 : 150374 \t- from\n",
      "46 : 144075 \t- it's\n",
      "47 : 141572 \t- food\n",
      "48 : 140082 \t- more\n",
      "49 : 139753 \t- can\n",
      "50 : 137788 \t- when\n"
     ]
    }
   ],
   "source": [
    "#Types count\n",
    "types = len(t.word_counts)\n",
    "#Tokens count\n",
    "tokens = sum(t.word_counts.values())\n",
    "print(\"Types:\", types)\n",
    "print(\"Tokens:\",tokens)\n",
    "print(\"Types/Tokens:\", types/tokens)\n",
    "\n",
    "top50 = Counter(t.word_counts).most_common(50)\n",
    "for i,w in enumerate(top50):\n",
    "    print(i+1,\":\", w[1], \"\\t-\", w[0])\n",
    "    \n",
    "#In the most common words\n",
    "#-Common words in English (the, I, and, ...)\n",
    "#-Preferences (like, good, great, ...)\n",
    "#-Food bias (database on revies about food)"
   ]
  },
  {
   "cell_type": "code",
   "execution_count": 12,
   "metadata": {},
   "outputs": [
    {
     "data": {
      "image/png": "[encoded data removed]",
      "text/plain": [
       "<Figure size 432x288 with 1 Axes>"
      ]
     },
     "metadata": {
      "needs_background": "light"
     },
     "output_type": "display_data"
    },
    {
     "data": {
      "image/png": "[encoded data removed]",
      "text/plain": [
       "<Figure size 432x288 with 1 Axes>"
      ]
     },
     "metadata": {
      "needs_background": "light"
     },
     "output_type": "display_data"
    }
   ],
   "source": [
    "#Token frequency distribution\n",
    "\n",
    "plt.hist(t.word_counts.values())\n",
    "plt.ylabel(\"Count\")\n",
    "plt.xlabel(\"Frequency\")\n",
    "plt.title(\"Word Frequeny distribution\")\n",
    "plt.show()\n",
    "\n",
    "plt.hist([i for i in t.word_counts.values() if i < 50])\n",
    "plt.ylabel(\"Count\")\n",
    "plt.xlabel(\"Frequency\")\n",
    "plt.title(\"Word Frequeny distribution\")\n",
    "plt.show()\n",
    "#Most of the words are not common"
   ]
  },
  {
   "cell_type": "code",
   "execution_count": 13,
   "metadata": {
    "scrolled": true
   },
   "outputs": [
    {
     "name": "stdout",
     "output_type": "stream",
     "text": [
      "Most common words with score: 1\n",
      "1 : 205781 \t- the\n",
      "2 : 164351 \t- i\n",
      "3 : 119505 \t- and\n",
      "4 : 104714 \t- a\n",
      "5 : 104347 \t- to\n",
      "6 : 94893 \t- it\n",
      "7 : 85205 \t- of\n",
      "8 : 77128 \t- this\n",
      "9 : 65809 \t- br\n",
      "10 : 65436 \t- is\n",
      "11 : 55941 \t- not\n",
      "12 : 55386 \t- in\n",
      "13 : 50531 \t- was\n",
      "14 : 48135 \t- that\n",
      "15 : 47911 \t- for\n",
      "16 : 41156 \t- my\n",
      "17 : 37702 \t- but\n",
      "18 : 32478 \t- have\n",
      "19 : 32303 \t- they\n",
      "20 : 31094 \t- with\n",
      "Most common words with score: 2\n",
      "1 : 127372 \t- the\n",
      "2 : 98684 \t- i\n",
      "3 : 67901 \t- a\n",
      "4 : 67217 \t- and\n",
      "5 : 60934 \t- to\n",
      "6 : 59581 \t- it\n",
      "7 : 52235 \t- of\n",
      "8 : 41349 \t- this\n",
      "9 : 38797 \t- br\n",
      "10 : 38656 \t- is\n",
      "11 : 36855 \t- not\n",
      "12 : 31366 \t- in\n",
      "13 : 31196 \t- but\n",
      "14 : 30446 \t- for\n",
      "15 : 28484 \t- that\n",
      "16 : 27369 \t- was\n",
      "17 : 23643 \t- my\n",
      "18 : 20228 \t- like\n",
      "19 : 19574 \t- with\n",
      "20 : 18508 \t- have\n",
      "Most common words with score: 3\n",
      "1 : 191603 \t- the\n",
      "2 : 139443 \t- i\n",
      "3 : 115450 \t- a\n",
      "4 : 96777 \t- and\n",
      "5 : 93203 \t- to\n",
      "6 : 90483 \t- it\n",
      "7 : 78320 \t- of\n",
      "8 : 67250 \t- br\n",
      "9 : 65140 \t- is\n",
      "10 : 56575 \t- but\n",
      "11 : 56405 \t- this\n",
      "12 : 51373 \t- not\n",
      "13 : 50296 \t- for\n",
      "14 : 47686 \t- in\n",
      "15 : 45145 \t- that\n",
      "16 : 36644 \t- my\n",
      "17 : 34543 \t- was\n",
      "18 : 30609 \t- as\n",
      "19 : 30552 \t- with\n",
      "20 : 29063 \t- you\n",
      "Most common words with score: 4\n",
      "1 : 324405 \t- the\n",
      "2 : 235222 \t- i\n",
      "3 : 231593 \t- a\n",
      "4 : 196208 \t- and\n",
      "5 : 168165 \t- to\n",
      "6 : 158896 \t- it\n",
      "7 : 139493 \t- of\n",
      "8 : 127377 \t- is\n",
      "9 : 118805 \t- br\n",
      "10 : 102640 \t- this\n",
      "11 : 97241 \t- for\n",
      "12 : 90088 \t- in\n",
      "13 : 82173 \t- but\n",
      "14 : 77617 \t- that\n",
      "15 : 69680 \t- my\n",
      "16 : 62587 \t- not\n",
      "17 : 60365 \t- with\n",
      "18 : 59185 \t- good\n",
      "19 : 56584 \t- you\n",
      "20 : 53194 \t- as\n",
      "Most common words with score: 5\n",
      "1 : 1078896 \t- the\n",
      "2 : 891931 \t- i\n",
      "3 : 845404 \t- and\n",
      "4 : 757141 \t- a\n",
      "5 : 610088 \t- to\n",
      "6 : 556867 \t- it\n",
      "7 : 467411 \t- of\n",
      "8 : 456599 \t- is\n",
      "9 : 421739 \t- this\n",
      "10 : 367171 \t- for\n",
      "11 : 356429 \t- br\n",
      "12 : 337695 \t- in\n",
      "13 : 321959 \t- my\n",
      "14 : 237388 \t- that\n",
      "15 : 221743 \t- with\n",
      "16 : 219742 \t- have\n",
      "17 : 212621 \t- you\n",
      "18 : 207229 \t- are\n",
      "19 : 194002 \t- but\n",
      "20 : 186721 \t- great\n"
     ]
    }
   ],
   "source": [
    "def count_per_score(score, top = 20):\n",
    "    #Select score and do the same experiment of before\n",
    "    t = Tokenizer()\n",
    "    t.fit_on_texts(data[data[\"Score\"] == score][\"Text\"])\n",
    "    t.fit_on_texts(data[data[\"Score\"] == score][\"Summary\"])\n",
    "    topn = Counter(t.word_counts).most_common(top)\n",
    "    print(\"Most common words with score:\", score)\n",
    "    for i,w in enumerate(topn):\n",
    "        print(i+1,\":\", w[1], \"\\t-\", w[0])\n",
    "\n",
    "for i in range(1, 6):\n",
    "    count_per_score(i) \n",
    "\n",
    "#The really most common words are similar for every score.\n",
    "#\"But\" is common in all the group, although it could mean somothing negative\n",
    "#\"Not\" is common in all groups except for score=5, so it doesn't (directly) help to discriminate the score\n",
    "#\"Good\" is common for score=4 and \"Great\" for score=5. Both of them have a positive meaning and the \n",
    "    #score reflect they grade.\n"
   ]
  },
  {
   "cell_type": "code",
   "execution_count": 14,
   "metadata": {},
   "outputs": [],
   "source": [
    "#Length of each review\n",
    "len_text = [len(i) for i in t.texts_to_sequences_generator(data[\"Text\"])]\n",
    "len_sum = [len(i) for i in t.texts_to_sequences_generator(data[\"Summary\"])]"
   ]
  },
  {
   "cell_type": "code",
   "execution_count": 15,
   "metadata": {},
   "outputs": [
    {
     "data": {
      "image/png": "[encoded data removed]",
      "text/plain": [
       "<Figure size 432x288 with 1 Axes>"
      ]
     },
     "metadata": {
      "needs_background": "light"
     },
     "output_type": "display_data"
    },
    {
     "name": "stdout",
     "output_type": "stream",
     "text": [
      "Mean: 81.71757257403414\n",
      "Std: 81.65936210244709\n",
      "Meadian: 57.0\n",
      "Max: 3507\n",
      "Min: 3\n"
     ]
    }
   ],
   "source": [
    "#Length distribution\n",
    "plt.hist(len_text)\n",
    "plt.title(\"Length distribution - full text\")\n",
    "plt.ylabel(\"Count\")\n",
    "plt.xlabel(\"Length\")\n",
    "plt.grid(True)\n",
    "plt.show()\n",
    "print(\"Mean:\", np.mean(len_text))\n",
    "print(\"Std:\", np.std(len_text))\n",
    "print(\"Meadian:\", np.median(len_text))\n",
    "print(\"Max:\", max(len_text))\n",
    "print(\"Min:\", min(len_text))"
   ]
  },
  {
   "cell_type": "code",
   "execution_count": 16,
   "metadata": {},
   "outputs": [
    {
     "data": {
      "image/png": "[encoded data removed]",
      "text/plain": [
       "<Figure size 432x288 with 1 Axes>"
      ]
     },
     "metadata": {
      "needs_background": "light"
     },
     "output_type": "display_data"
    },
    {
     "name": "stdout",
     "output_type": "stream",
     "text": [
      "Mean: 78.62273128314116\n",
      "Std: 67.25715603201122\n",
      "Meadian: 57.0\n",
      "Max: 500\n",
      "Min: 3\n"
     ]
    }
   ],
   "source": [
    "len_text_500 = [i for i in len_text if i <= 500]\n",
    "plt.hist(len_text_500)\n",
    "plt.title(\"Length distribution - text <= 500 words\")\n",
    "plt.ylabel(\"Count\")\n",
    "plt.xlabel(\"Length\")\n",
    "plt.grid(True)\n",
    "plt.show()\n",
    "print(\"Mean:\", np.mean(len_text_500))\n",
    "print(\"Std:\", np.std(len_text_500))\n",
    "print(\"Meadian:\", np.median(len_text_500))\n",
    "print(\"Max:\", max(len_text_500))\n",
    "print(\"Min:\", min(len_text_500))"
   ]
  },
  {
   "cell_type": "code",
   "execution_count": 17,
   "metadata": {},
   "outputs": [
    {
     "data": {
      "image/png": "[encoded data removed]",
      "text/plain": [
       "<Figure size 432x288 with 1 Axes>"
      ]
     },
     "metadata": {
      "needs_background": "light"
     },
     "output_type": "display_data"
    },
    {
     "name": "stdout",
     "output_type": "stream",
     "text": [
      "Mean: 4.121823401717641\n",
      "Std: 2.598148019387071\n",
      "Meadian: 4.0\n",
      "Max: 48\n",
      "Min: 0\n"
     ]
    }
   ],
   "source": [
    "plt.hist(len_sum)\n",
    "plt.title(\"Length distribution - review summary\")\n",
    "plt.ylabel(\"Count\")\n",
    "plt.xlabel(\"Length\")\n",
    "plt.grid(True)\n",
    "plt.show()\n",
    "print(\"Mean:\", np.mean(len_sum))\n",
    "print(\"Std:\", np.std(len_sum))\n",
    "print(\"Meadian:\", np.median(len_sum))\n",
    "print(\"Max:\", max(len_sum))\n",
    "print(\"Min:\", min(len_sum))"
   ]
  },
  {
   "cell_type": "code",
   "execution_count": 18,
   "metadata": {},
   "outputs": [
    {
     "data": {
      "image/png": "[encoded data removed]",
      "text/plain": [
       "<Figure size 432x288 with 1 Axes>"
      ]
     },
     "metadata": {
      "needs_background": "light"
     },
     "output_type": "display_data"
    },
    {
     "data": {
      "image/png": "[encoded data removed]",
      "text/plain": [
       "<Figure size 432x288 with 1 Axes>"
      ]
     },
     "metadata": {
      "needs_background": "light"
     },
     "output_type": "display_data"
    },
    {
     "name": "stdout",
     "output_type": "stream",
     "text": [
      "Correlation score and text length: -0.07652517545625775\n",
      "Correlation score and summary length: -0.07547192835558765\n"
     ]
    }
   ],
   "source": [
    "#Correlation between score and length\n",
    "plt.scatter(len_text, data[\"Score\"])\n",
    "plt.ylabel(\"Score\")\n",
    "plt.xlabel(\"Length\")\n",
    "plt.title(\"Correlation of text length and score\")\n",
    "plt.show()\n",
    "\n",
    "plt.scatter(len_sum, data[\"Score\"])\n",
    "plt.ylabel(\"Score\")\n",
    "plt.xlabel(\"Length\")\n",
    "plt.title(\"Correlation of summary length and score\")\n",
    "plt.show()\n",
    "plt.show()\n",
    "\n",
    "print(\"Correlation score and text length:\", np.corrcoef(len_text, data[\"Score\"])[1,0])\n",
    "print(\"Correlation score and summary length:\", np.corrcoef(len_sum, data[\"Score\"])[1,0])\n",
    "#Low correlation for both\n",
    "#Both shifted to the left"
   ]
  },
  {
   "cell_type": "markdown",
   "metadata": {},
   "source": [
    "## Split Data"
   ]
  },
  {
   "cell_type": "code",
   "execution_count": 8,
   "metadata": {},
   "outputs": [],
   "source": [
    "#Stratified split\n",
    "def train_val_test_split(X, y, ratio = [train_ratio, val_ratio, test_ratio], r = random):\n",
    "    \"\"\"\n",
    "    X: features set\n",
    "    y: label vector\n",
    "    ratio: proportion of each set, [train, validation, test], sum up to 1\n",
    "    r: random state\n",
    "    \"\"\"    \n",
    "    X_train, X_remain, y_train, y_remain = train_test_split(X, y, train_size=ratio[0], random_state = r)\n",
    "    X_val, X_test, y_val, y_test = train_test_split(X_remain, y_remain, train_size=ratio[1] / (1 - ratio[0]), random_state = r)\n",
    "    return X_train, X_val, X_test, y_train, y_val, y_test"
   ]
  },
  {
   "cell_type": "code",
   "execution_count": 9,
   "metadata": {},
   "outputs": [],
   "source": [
    "#Discard other columns\n",
    "reviews = pd.DataFrame(data[[\"Summary\", \"Text\", \"Score\"]])\n",
    "reviews[[\"Summary\", \"Text\"]] = reviews[[\"Summary\", \"Text\"]].astype(str)\n",
    "reviews[\"Score\"] = reviews[\"Score\"].astype(float)\n",
    "X_train, X_val, X_test, y_train, y_val, y_test = train_val_test_split(reviews[[\"Summary\", \"Text\"]], reviews[\"Score\"])\n",
    "\n",
    "#Text\n",
    "t_train = X_train[\"Text\"]\n",
    "t_val = X_val[\"Text\"]\n",
    "t_test = X_test[\"Text\"]\n",
    "\n",
    "#Summary\n",
    "s_train = X_train[\"Summary\"]\n",
    "s_val = X_val[\"Summary\"]\n",
    "s_test = X_test[\"Summary\"]\n",
    "\n",
    "#To get both\n",
    "def join_set(x1, x2, y1, y2 = None):\n",
    "    if y2 is None:\n",
    "        y2 = y1\n",
    "    return x1.append(x2, True), y1.append(y2, True)"
   ]
  },
  {
   "cell_type": "markdown",
   "metadata": {},
   "source": [
    "## Preprocessing"
   ]
  },
  {
   "cell_type": "code",
   "execution_count": 17,
   "metadata": {},
   "outputs": [
    {
     "ename": "NameError",
     "evalue": "name 't' is not defined",
     "output_type": "error",
     "traceback": [
      "\u001b[0;31m---------------------------------------------------------------------------\u001b[0m",
      "\u001b[0;31mNameError\u001b[0m                                 Traceback (most recent call last)",
      "\u001b[0;32m<ipython-input-17-2b2d8da49dc9>\u001b[0m in \u001b[0;36m<module>\u001b[0;34m\u001b[0m\n\u001b[1;32m      1\u001b[0m \u001b[0mvoc_size\u001b[0m \u001b[0;34m=\u001b[0m \u001b[0;36m0\u001b[0m\u001b[0;34m\u001b[0m\u001b[0;34m\u001b[0m\u001b[0m\n\u001b[0;32m----> 2\u001b[0;31m \u001b[0;32mfor\u001b[0m \u001b[0mi\u001b[0m \u001b[0;32min\u001b[0m \u001b[0mt\u001b[0m\u001b[0;34m.\u001b[0m\u001b[0mword_counts\u001b[0m\u001b[0;34m.\u001b[0m\u001b[0mvalues\u001b[0m\u001b[0;34m(\u001b[0m\u001b[0;34m)\u001b[0m\u001b[0;34m:\u001b[0m\u001b[0;34m\u001b[0m\u001b[0;34m\u001b[0m\u001b[0m\n\u001b[0m\u001b[1;32m      3\u001b[0m     \u001b[0;32mif\u001b[0m \u001b[0mi\u001b[0m \u001b[0;34m>\u001b[0m \u001b[0mfreq_cutoff\u001b[0m\u001b[0;34m:\u001b[0m\u001b[0;34m\u001b[0m\u001b[0;34m\u001b[0m\u001b[0m\n\u001b[1;32m      4\u001b[0m         \u001b[0mvoc_size\u001b[0m \u001b[0;34m+=\u001b[0m \u001b[0;36m1\u001b[0m\u001b[0;34m\u001b[0m\u001b[0;34m\u001b[0m\u001b[0m\n\u001b[1;32m      5\u001b[0m \u001b[0mt\u001b[0m\u001b[0;34m.\u001b[0m\u001b[0mnum_words\u001b[0m \u001b[0;34m=\u001b[0m \u001b[0mvoc_size\u001b[0m\u001b[0;34m\u001b[0m\u001b[0;34m\u001b[0m\u001b[0m\n",
      "\u001b[0;31mNameError\u001b[0m: name 't' is not defined"
     ]
    }
   ],
   "source": [
    "#Not used\n",
    "#Try to remove uncommon words to see if the length of the reviews of reduced -> didn't work\n",
    "voc_size = 0\n",
    "for i in t.word_counts.values():\n",
    "    if i > freq_cutoff:\n",
    "        voc_size += 1\n",
    "t.num_words = voc_size\n",
    "print(\"Vocabulary size (after cutoff):\", voc_size)\n",
    "print(\"Original size:\", types)\n",
    "print(\"Frequency cutoff:\", freq_cutoff)"
   ]
  },
  {
   "cell_type": "code",
   "execution_count": null,
   "metadata": {},
   "outputs": [],
   "source": [
    "max_review_size = 0\n",
    "for i in t.texts_to_sequences_generator(t_train):\n",
    "    if max_review_size < len(pad_sequences([i])[0]):\n",
    "        max_review_size = len(pad_sequences([i])[0])\n",
    "print(\"Maximum sequence size (after cutoff):\", max_review_size)\n",
    "#Even the frequency cutoff cannot reduce the size"
   ]
  },
  {
   "cell_type": "code",
   "execution_count": 10,
   "metadata": {},
   "outputs": [],
   "source": [
    "#Clean some space\n",
    "if \"t\" in globals():\n",
    "    del t\n",
    "if \"data\" in globals():\n",
    "    del data\n",
    "if \"reviews\" in globals():\n",
    "    del reviews"
   ]
  },
  {
   "cell_type": "code",
   "execution_count": 11,
   "metadata": {
    "scrolled": false
   },
   "outputs": [],
   "source": [
    "#From the most common words in the data exploration part\n",
    "#Keep some stop words -> ex. not, but, ...\n",
    "stop_words = [i for i in sklearn.feature_extraction.text.ENGLISH_STOP_WORDS]\n",
    "to_be_removed = [\"almost\", \"although\", \"but\", \"can\", \"cannot\", \"could\", \"couldnt\",\"ever\", \"every\", \"few\", \"full\", \"further\", \"has\", \"hasnt\",\"have\",\"less\",\"many\", \"more\", \"mostly\",\"much\",\"never\", \"no\", \"none\",\"not\",\"only\",\"some\",\"though\", \"top\",\"very\"]\n",
    "stop_words = [i for i in stop_words if i not in to_be_removed]"
   ]
  },
  {
   "cell_type": "code",
   "execution_count": 12,
   "metadata": {},
   "outputs": [],
   "source": [
    "embedding = api.load(\"glove-wiki-gigaword-50\")"
   ]
  },
  {
   "cell_type": "code",
   "execution_count": 13,
   "metadata": {},
   "outputs": [
    {
     "name": "stdout",
     "output_type": "stream",
     "text": [
      "Embedding vocabulary size: 400000\n",
      "Embedding size: 50\n"
     ]
    }
   ],
   "source": [
    "print(\"Embedding vocabulary size:\", len(embedding.vocab))\n",
    "print(\"Embedding size:\", embedding.vector_size)"
   ]
  },
  {
   "cell_type": "code",
   "execution_count": 14,
   "metadata": {},
   "outputs": [],
   "source": [
    "#Tokenized based on the embedding\n",
    "tk = Tokenizer(len(embedding.vocab))\n",
    "tk.word_index = {w: v.index for w, v in embedding.vocab.items() if w not in stop_words}"
   ]
  },
  {
   "cell_type": "code",
   "execution_count": 15,
   "metadata": {},
   "outputs": [],
   "source": [
    "#Limit the size of the datasets\n",
    "def reduce(x1, x2, y, max_size=max_size, r = random):\n",
    "    \"\"\"\n",
    "    x1: reviews\n",
    "    x2: summaries\n",
    "    y: labels\n",
    "    max_size: limit the size of the dataset to max_size\n",
    "    r: random state\n",
    "    \n",
    "    Reduce the size of the dataset. The exceeding part is discarded\n",
    "    \n",
    "    x1, y2 and y must be of the same size\n",
    "    If max_size is larger than x1,x2,y the original set is returned\n",
    "    \"\"\"\n",
    "    if len(x1) != len(x2):\n",
    "        raise ValueError(\"The two set must have the same size\")\n",
    "    if max_size < len(x1):\n",
    "        tmp = pd.DataFrame()\n",
    "        tmp[\"x1\"] = x1\n",
    "        tmp[\"x2\"] = x2\n",
    "        tmp, _, y, _ = train_test_split(tmp, y, train_size = max_size, random_state=random, stratify=y)\n",
    "        x1 = tmp[\"x1\"]\n",
    "        x2 = tmp[\"x2\"]\n",
    "    return x1, x2, y\n",
    "\n",
    "def make_label(y):\n",
    "    \"\"\"From numbers to one.hot vector\"\"\"\n",
    "    encoder = LabelBinarizer()\n",
    "    encoder.classes_ = [1,2,3,4,5]\n",
    "    return encoder.transform(y)    \n",
    "\n",
    "def get_sequences(tk, x, y, max_len = None):        \n",
    "    \"\"\"Return a list of sequence of the same length\n",
    "    tk: keras tokenizer\n",
    "    x: data\n",
    "    y: label (not used)\n",
    "    max_len: limits the sequence to the first max_len tokens if not none\n",
    "    \"\"\"\n",
    "    return pad_sequences(tk.texts_to_sequences(x), max_len)"
   ]
  },
  {
   "cell_type": "markdown",
   "metadata": {},
   "source": [
    "The remaining part of the data preprocessing is only for the LSTM models.\n",
    "The BayesModel has its own internal representation and it can handle strings or larger sets."
   ]
  },
  {
   "cell_type": "code",
   "execution_count": 16,
   "metadata": {},
   "outputs": [],
   "source": [
    "t_train, s_train, y_train = reduce(t_train, s_train, y_train)\n",
    "t_val, s_val, y_val = reduce(t_val, s_val, y_val)\n",
    "t_test, s_test, y_test = reduce(t_test, s_test, y_test)"
   ]
  },
  {
   "cell_type": "code",
   "execution_count": 17,
   "metadata": {},
   "outputs": [
    {
     "name": "stdout",
     "output_type": "stream",
     "text": [
      "Reduced train size: 30000\n",
      "Reduced validation size: 30000\n",
      "Reduced test size: 30000\n"
     ]
    }
   ],
   "source": [
    "print(\"Reduced train size:\", len(t_train))\n",
    "print(\"Reduced validation size:\", len(t_val))\n",
    "print(\"Reduced test size:\", len(t_test))"
   ]
  },
  {
   "cell_type": "code",
   "execution_count": 18,
   "metadata": {},
   "outputs": [],
   "source": [
    "y_train = make_label(y_train)\n",
    "y_val = make_label(y_val)\n",
    "y_test = make_label(y_test)"
   ]
  },
  {
   "cell_type": "code",
   "execution_count": 19,
   "metadata": {},
   "outputs": [
    {
     "name": "stdout",
     "output_type": "stream",
     "text": [
      "Summary train shape: (30000, 20)\n"
     ]
    }
   ],
   "source": [
    "s_train = get_sequences(tk, s_train, seq_len)\n",
    "s_val = get_sequences(tk, s_val, seq_len)\n",
    "s_test = get_sequences(tk, s_test, seq_len)\n",
    "\n",
    "print(\"Summary train shape:\", s_train.shape)"
   ]
  },
  {
   "cell_type": "code",
   "execution_count": 20,
   "metadata": {},
   "outputs": [
    {
     "name": "stdout",
     "output_type": "stream",
     "text": [
      "Review train shape: (30000, 830)\n"
     ]
    }
   ],
   "source": [
    "t_train = get_sequences(tk, t_train, seq_len)\n",
    "t_val = get_sequences(tk, t_val, seq_len)\n",
    "t_test = get_sequences(tk, t_test, seq_len)\n",
    "print(\"Review train shape:\", t_train.shape)"
   ]
  },
  {
   "cell_type": "markdown",
   "metadata": {},
   "source": [
    "## Models"
   ]
  },
  {
   "cell_type": "markdown",
   "metadata": {},
   "source": [
    "### Dummy Classifiers"
   ]
  },
  {
   "cell_type": "markdown",
   "metadata": {},
   "source": [
    "Since the examples with score equals to 5 are the majority, it is easy to obtain a model with an high accuracy. Therefore the models I want to obtain must perform better than those kinds of models."
   ]
  },
  {
   "cell_type": "code",
   "execution_count": 33,
   "metadata": {},
   "outputs": [
    {
     "name": "stdout",
     "output_type": "stream",
     "text": [
      "Training dummy classifiers...\n",
      "--Done: 0.01\n"
     ]
    }
   ],
   "source": [
    "dummy_text_clf = DummyClassifier(strategy=\"prior\", random_state = random)\n",
    "dummy_summary_clf = DummyClassifier(strategy=\"prior\", random_state = random)\n",
    "dummy_both_clf = DummyClassifier(strategy=\"prior\", random_state = random)\n",
    "\n",
    "print(\"Training dummy classifiers...\")\n",
    "t_ = time()\n",
    "\n",
    "dummy_text_clf.fit(t_train, y_train)\n",
    "dummy_summary_clf.fit(s_train, y_train)\n",
    "dummy_both_clf.fit(t_train.append(s_train, True), np.concatenate((y_train, y_train), axis=0))\n",
    "\n",
    "print(\"--Done: {:.2f}\".format(time()-t_))"
   ]
  },
  {
   "cell_type": "code",
   "execution_count": 34,
   "metadata": {
    "scrolled": false
   },
   "outputs": [
    {
     "name": "stdout",
     "output_type": "stream",
     "text": [
      "Dummy classifier on text\n",
      "[[0.     0.     0.     0.     0.09  ]\n",
      " [0.     0.     0.     0.     0.0514]\n",
      " [0.     0.     0.     0.     0.0765]\n",
      " [0.     0.     0.     0.     0.1431]\n",
      " [0.     0.     0.     0.     0.639 ]]\n",
      "\n",
      "              precision    recall  f1-score   support\n",
      "\n",
      "           0       0.00      0.00      0.00       900\n",
      "           1       0.00      0.00      0.00       514\n",
      "           2       0.00      0.00      0.00       765\n",
      "           3       0.00      0.00      0.00      1431\n",
      "           4       0.64      1.00      0.78      6390\n",
      "\n",
      "    accuracy                           0.64     10000\n",
      "   macro avg       0.13      0.20      0.16     10000\n",
      "weighted avg       0.41      0.64      0.50     10000\n",
      "\n",
      "\n",
      "Dummy classifier on summary\n",
      "[[0.     0.     0.     0.     0.09  ]\n",
      " [0.     0.     0.     0.     0.0514]\n",
      " [0.     0.     0.     0.     0.0765]\n",
      " [0.     0.     0.     0.     0.1431]\n",
      " [0.     0.     0.     0.     0.639 ]]\n",
      "\n",
      "              precision    recall  f1-score   support\n",
      "\n",
      "           0       0.00      0.00      0.00       900\n",
      "           1       0.00      0.00      0.00       514\n",
      "           2       0.00      0.00      0.00       765\n",
      "           3       0.00      0.00      0.00      1431\n",
      "           4       0.64      1.00      0.78      6390\n",
      "\n",
      "    accuracy                           0.64     10000\n",
      "   macro avg       0.13      0.20      0.16     10000\n",
      "weighted avg       0.41      0.64      0.50     10000\n",
      "\n",
      "\n",
      "Dummy classifier on both\n",
      "\n",
      "[[0.     0.     0.     0.     0.0922]\n",
      " [0.     0.     0.     0.     0.0526]\n",
      " [0.     0.     0.     0.     0.0751]\n",
      " [0.     0.     0.     0.     0.1419]\n",
      " [0.     0.     0.     0.     0.6382]]\n",
      "\n",
      "              precision    recall  f1-score   support\n",
      "\n",
      "           0       0.00      0.00      0.00      1844\n",
      "           1       0.00      0.00      0.00      1052\n",
      "           2       0.00      0.00      0.00      1502\n",
      "           3       0.00      0.00      0.00      2838\n",
      "           4       0.64      1.00      0.78     12764\n",
      "\n",
      "    accuracy                           0.64     20000\n",
      "   macro avg       0.13      0.20      0.16     20000\n",
      "weighted avg       0.41      0.64      0.50     20000\n",
      "\n",
      "\n"
     ]
    },
    {
     "name": "stderr",
     "output_type": "stream",
     "text": [
      "/home/gianluca/anaconda3/envs/NLP/lib/python3.7/site-packages/sklearn/metrics/_classification.py:1272: UndefinedMetricWarning: Precision and F-score are ill-defined and being set to 0.0 in labels with no predicted samples. Use `zero_division` parameter to control this behavior.\n",
      "  _warn_prf(average, modifier, msg_start, len(result))\n"
     ]
    }
   ],
   "source": [
    "print(\"Dummy classifier on text\")\n",
    "y_pred = dummy_text_clf.predict(t_test)\n",
    "print(confusion_matrix(y_test.argmax(axis=1), y_pred.argmax(axis=1), normalize=\"all\"))\n",
    "print()\n",
    "print(classification_report(y_test.argmax(axis=1), y_pred.argmax(axis=1)))\n",
    "print()\n",
    "\n",
    "print(\"Dummy classifier on summary\")\n",
    "y_pred = dummy_summary_clf.predict(s_test)\n",
    "print(confusion_matrix(y_test.argmax(axis=1), y_pred.argmax(axis=1), normalize=\"all\"))\n",
    "print()\n",
    "print(classification_report(y_test.argmax(axis=1), y_pred.argmax(axis=1)))\n",
    "print()\n",
    "\n",
    "print(\"Dummy classifier on both\\n\")\n",
    "y_pred = dummy_text_clf.predict(t_test.append(s_test,True))\n",
    "print(confusion_matrix(np.concatenate((y_train, y_train), axis=0).argmax(axis=1), y_pred.argmax(axis=1), normalize=\"all\"))\n",
    "print()\n",
    "print(classification_report(np.concatenate((y_train, y_train), axis=0).argmax(axis=1), y_pred.argmax(axis=1)))\n",
    "print()\n",
    "\n",
    "#Since the models are trained on the same distribution of labels they all have results\n",
    "#The base accuracy is 0.44\n",
    "#This evaluation doesn't take in account how big is the error: \n",
    "    #predict 1 while the true value is 5 is worse than predicting 4 while the true value is 5"
   ]
  },
  {
   "cell_type": "markdown",
   "metadata": {},
   "source": [
    "### Bayesian model"
   ]
  },
  {
   "cell_type": "markdown",
   "metadata": {},
   "source": [
    "Use 3-gram model and alpha-smoothing. The log-probability of a sentence is the sum of the log-probabilities of each n-gram. The total probability is divided by the number of 3-grams to obtain a valid probability. Use text and not embedded vectors."
   ]
  },
  {
   "cell_type": "code",
   "execution_count": 244,
   "metadata": {
    "scrolled": false
   },
   "outputs": [
    {
     "name": "stdout",
     "output_type": "stream",
     "text": [
      "Training:: [||||||||||||||||||||||||||||||||||||||||||||||||||] 100.00% completed\n"
     ]
    }
   ],
   "source": [
    "bm = BayesModel(tk.split, tk.filters, stop_words, [1,2,3,4,5], alpha= 1)\n",
    "bm.fit(t_train.append(s_train, True), np.concatenate((y_train, y_train), axis=0))"
   ]
  },
  {
   "cell_type": "code",
   "execution_count": 245,
   "metadata": {
    "scrolled": false
   },
   "outputs": [
    {
     "name": "stdout",
     "output_type": "stream",
     "text": [
      "Bayes Model on text\n",
      "[[0.         0.         0.         0.03085529 0.05914224]\n",
      " [0.         0.         0.         0.0161313  0.03525314]\n",
      " [0.         0.         0.         0.02429371 0.05222883]\n",
      " [0.         0.         0.         0.04341554 0.09969039]\n",
      " [0.         0.         0.         0.18789361 0.45109594]]\n",
      "\n",
      "              precision    recall  f1-score   support\n",
      "\n",
      "         1.0       0.00      0.00      0.00      5116\n",
      "         2.0       0.00      0.00      0.00      2921\n",
      "         3.0       0.00      0.00      0.00      4350\n",
      "         4.0       0.14      0.30      0.19      8135\n",
      "         5.0       0.65      0.71      0.68     36324\n",
      "\n",
      "    accuracy                           0.49     56846\n",
      "   macro avg       0.16      0.20      0.17     56846\n",
      "weighted avg       0.43      0.49      0.46     56846\n",
      "\n",
      "\n",
      "Bayes Model on summary\n"
     ]
    },
    {
     "name": "stderr",
     "output_type": "stream",
     "text": [
      "/home/gianluca/anaconda3/envs/NLP/lib/python3.7/site-packages/sklearn/metrics/_classification.py:1272: UndefinedMetricWarning: Precision and F-score are ill-defined and being set to 0.0 in labels with no predicted samples. Use `zero_division` parameter to control this behavior.\n",
      "  _warn_prf(average, modifier, msg_start, len(result))\n"
     ]
    },
    {
     "name": "stdout",
     "output_type": "stream",
     "text": [
      "[[0.         0.         0.         0.00554129 0.08445625]\n",
      " [0.         0.         0.         0.00313127 0.04825318]\n",
      " [0.         0.         0.         0.00436266 0.07215987]\n",
      " [0.         0.         0.         0.00818    0.13492594]\n",
      " [0.         0.         0.         0.03724097 0.60174858]]\n",
      "\n",
      "              precision    recall  f1-score   support\n",
      "\n",
      "         1.0       0.00      0.00      0.00      5116\n",
      "         2.0       0.00      0.00      0.00      2921\n",
      "         3.0       0.00      0.00      0.00      4350\n",
      "         4.0       0.14      0.06      0.08      8135\n",
      "         5.0       0.64      0.94      0.76     36324\n",
      "\n",
      "    accuracy                           0.61     56846\n",
      "   macro avg       0.16      0.20      0.17     56846\n",
      "weighted avg       0.43      0.61      0.50     56846\n",
      "\n",
      "\n"
     ]
    },
    {
     "name": "stderr",
     "output_type": "stream",
     "text": [
      "/home/gianluca/anaconda3/envs/NLP/lib/python3.7/site-packages/sklearn/metrics/_classification.py:1272: UndefinedMetricWarning: Precision and F-score are ill-defined and being set to 0.0 in labels with no predicted samples. Use `zero_division` parameter to control this behavior.\n",
      "  _warn_prf(average, modifier, msg_start, len(result))\n"
     ]
    }
   ],
   "source": [
    "print(\"Bayes Model on text\")\n",
    "y_pred = bm.predict(t_test)\n",
    "print(confusion_matrix(y_test, y_pred, normalize=\"all\"))\n",
    "print()\n",
    "print(classification_report(y_test, y_pred))\n",
    "print()\n",
    "\n",
    "print(\"Bayes Model on summary\")\n",
    "y_pred = bm.predict(s_test)\n",
    "print(confusion_matrix(y_test, y_pred, normalize=\"all\"))\n",
    "print()\n",
    "print(classification_report(y_test, y_pred))\n",
    "print()"
   ]
  },
  {
   "cell_type": "code",
   "execution_count": 246,
   "metadata": {},
   "outputs": [
    {
     "name": "stdout",
     "output_type": "stream",
     "text": [
      "[array([0.0999923 , 0.05880221, 0.08836071, 0.15917941, 0.59362217]), array([0.09987429, 0.05891651, 0.08875092, 0.16003034, 0.59138723]), array([0.09958094, 0.05885303, 0.08877404, 0.16014627, 0.58867552]), array([0.0987156 , 0.05856907, 0.08864661, 0.16013605, 0.58183535]), array([0.09890612, 0.0579767 , 0.08681126, 0.1561333 , 0.58825474])]\n",
      "[5. 5. 5. 5. 5.]\n",
      "251349    1.0\n",
      "523262    5.0\n",
      "224543    5.0\n",
      "291632    4.0\n",
      "37385     5.0\n",
      "Name: Score, dtype: float64\n",
      "It is really bad: [5.]\n",
      "It is disgusting: [5.]\n",
      "It is perfect: [5.]\n"
     ]
    }
   ],
   "source": [
    "print(bm.predict_proba(t_train[:5]))\n",
    "print(bm.predict(t_train[:5]))\n",
    "print(y_train[:5])\n",
    "print(\"It is really bad:\", bm.predict([\"It is really bad\"]))\n",
    "print(\"It is disgusting:\", bm.predict([\"It is disgusting\"]))\n",
    "print(\"It is perfect:\", bm.predict([\"It is perfect\"]))"
   ]
  },
  {
   "cell_type": "markdown",
   "metadata": {},
   "source": [
    "### Neural Network"
   ]
  },
  {
   "cell_type": "markdown",
   "metadata": {},
   "source": [
    "I will try different models, based on Lab3\n",
    "For the summary of the review the sequence is short, so it is quite straightfoward, but for the text there are much longer sequences, so they are cut at 500 tokens"
   ]
  },
  {
   "cell_type": "code",
   "execution_count": 21,
   "metadata": {},
   "outputs": [],
   "source": [
    "def evaluate(model, x, y):\n",
    "    metrics = model.evaluate(x, y)\n",
    "    y_pred = model.predict(x).argmax(axis=1)\n",
    "    y = y.argmax(axis=1)\n",
    "    print(\"Loss:\", metrics[0])\n",
    "    print(\"Accuracy:\", metrics[1])\n",
    "    print(\"Others:\", metrics[2:])\n",
    "    print(confusion_matrix(y, y_pred, normalize=\"all\"))\n",
    "    print()\n",
    "    print(classification_report(y, y_pred))\n",
    "    print()\n",
    "    return metrics, y_pred\n",
    "\n",
    "def train(model, x, y, val_x, val_y, epochs):\n",
    "    print(\"Training...\")\n",
    "    t = time()\n",
    "    history =model.fit(x, y, validation_data=(val_x, val_y), epochs=epochs, workers = -1, shuffle=True)\n",
    "    print(\"--Done:\", time()-t,\"s\")\n",
    "    return history\n",
    "    \n",
    "def save(model, name):\n",
    "    model.save(model_path + name)\n",
    "    \n",
    "def plot_train(history):\n",
    "    plt.plot(history.history[\"loss\"], label=\"Loss\")\n",
    "    plt.plot(history.history[\"val_loss\"], label=\"Val loss\")\n",
    "    plt.title(\"Loss\")\n",
    "    plt.xlabel(\"Epoch\")    \n",
    "    plt.legend()\n",
    "    plt.grid()\n",
    "    plt.show()\n",
    "    plt.plot(history.history[\"accuracy\"], label=\"accuracy\")\n",
    "    plt.plot(history.history[\"val_accuracy\"], label=\"Val accuracy\")\n",
    "    plt.plot(history.history[\"precision_1\"], label=\"Precision\")\n",
    "    plt.plot(history.history[\"val_precision_1\"], label=\"Val precision\")\n",
    "    plt.plot(history.history[\"recall_1\"], label=\"Recall\")\n",
    "    plt.plot(history.history[\"val_recall_1\"], label=\"Val recall\")\n",
    "    plt.xlabel(\"Epoch\")\n",
    "    plt.legend()\n",
    "    plt.grid()\n",
    "    plt.show()"
   ]
  },
  {
   "cell_type": "code",
   "execution_count": 38,
   "metadata": {
    "scrolled": false
   },
   "outputs": [],
   "source": [
    "def make_LSTM2Dense(embedding = embedding, load = False, model = \"\"):\n",
    "    m = Sequential()    \n",
    "    #Embedding\n",
    "    m.add(embedding.get_keras_embedding(True)) \n",
    "\n",
    "    m.add(LSTM(128, return_sequences=False))\n",
    "\n",
    "    m.add(Dense(75, activation='relu'))\n",
    "    m.add(Dense(25, activation='relu'))\n",
    "    m.add(Dense(class_size, activation='softmax'))\n",
    "\n",
    "    #from documentation: metrics is CategoricalAccuray because of the loss function\n",
    "    m.compile(optimizer='adam', loss='categorical_crossentropy', metrics=['accuracy', keras.metrics.Precision(), keras.metrics.Recall()])\n",
    "    m.summary()\n",
    "    if load:\n",
    "        if model == \"\":\n",
    "            raise ValueError(\"Invalid model name\")\n",
    "        m.load_weights(model_path+model)       \n",
    "    return m\n",
    "\n",
    "m= make_LSTM2Dense()"
   ]
  },
  {
   "cell_type": "code",
   "execution_count": 40,
   "metadata": {
    "scrolled": false
   },
   "outputs": [
    {
     "name": "stdout",
     "output_type": "stream",
     "text": [
      "Training...\n"
     ]
    },
    {
     "name": "stderr",
     "output_type": "stream",
     "text": [
      "/home/gianluca/anaconda3/envs/NLP/lib/python3.7/site-packages/tensorflow_core/python/framework/indexed_slices.py:433: UserWarning: Converting sparse IndexedSlices to a dense Tensor of unknown shape. This may consume a large amount of memory.\n",
      "  \"Converting sparse IndexedSlices to a dense Tensor of unknown shape. \"\n"
     ]
    },
    {
     "name": "stdout",
     "output_type": "stream",
     "text": [
      "Train on 30000 samples, validate on 30000 samples\n",
      "Epoch 1/2\n",
      "30000/30000 [==============================] - 994s 33ms/step - loss: 0.9515 - accuracy: 0.6643 - precision_1: 0.7555 - recall_1: 0.5710 - val_loss: 0.8387 - val_accuracy: 0.6954 - val_precision_1: 0.8232 - val_recall_1: 0.5645\n",
      "Epoch 2/2\n",
      "30000/30000 [==============================] - 884s 29ms/step - loss: 0.7798 - accuracy: 0.7054 - precision_1: 0.8163 - recall_1: 0.6153 - val_loss: 0.7772 - val_accuracy: 0.7137 - val_precision_1: 0.8150 - val_recall_1: 0.6235\n",
      "--Done: 1878.3025352954865 s\n"
     ]
    },
    {
     "data": {
      "image/png": "[encoded data removed]",
      "text/plain": [
       "<Figure size 432x288 with 1 Axes>"
      ]
     },
     "metadata": {
      "needs_background": "light"
     },
     "output_type": "display_data"
    },
    {
     "data": {
      "image/png": "[encoded data removed]",
      "text/plain": [
       "<Figure size 432x288 with 1 Axes>"
      ]
     },
     "metadata": {
      "needs_background": "light"
     },
     "output_type": "display_data"
    }
   ],
   "source": [
    "history_LSTM2Dense = train(m, t_train, y_train, t_val, y_val, epochs)\n",
    "save(m, \"LSTM2Dense{}_emb.h5\".format(epochs))"
   ]
  },
  {
   "cell_type": "code",
   "execution_count": 42,
   "metadata": {},
   "outputs": [
    {
     "data": {
      "image/png": "[encoded data removed]",
      "text/plain": [
       "<Figure size 432x288 with 1 Axes>"
      ]
     },
     "metadata": {
      "needs_background": "light"
     },
     "output_type": "display_data"
    },
    {
     "data": {
      "image/png": "[encoded data removed]",
      "text/plain": [
       "<Figure size 432x288 with 1 Axes>"
      ]
     },
     "metadata": {
      "needs_background": "light"
     },
     "output_type": "display_data"
    }
   ],
   "source": [
    "plot_train(history_LSTM2Dense)"
   ]
  },
  {
   "cell_type": "code",
   "execution_count": 43,
   "metadata": {
    "scrolled": false
   },
   "outputs": [
    {
     "name": "stdout",
     "output_type": "stream",
     "text": [
      "30000/30000 [==============================] - 151s 5ms/step\n",
      "Loss: 0.7924926433563232\n",
      "Accuracy: 0.7040666937828064\n",
      "Others: [0.8065375089645386, 0.6160333156585693]\n",
      "[[0.05876667 0.0029     0.00366667 0.00153333 0.02313333]\n",
      " [0.01766667 0.00406667 0.0069     0.00426667 0.01846667]\n",
      " [0.0101     0.00426667 0.0131     0.01483333 0.03423333]\n",
      " [0.00416667 0.00136667 0.0072     0.02556667 0.1048    ]\n",
      " [0.0096     0.00096667 0.00396667 0.0219     0.60256667]]\n",
      "\n",
      "              precision    recall  f1-score   support\n",
      "\n",
      "           0       0.59      0.65      0.62      2700\n",
      "           1       0.30      0.08      0.13      1541\n",
      "           2       0.38      0.17      0.24      2296\n",
      "           3       0.38      0.18      0.24      4293\n",
      "           4       0.77      0.94      0.85     19170\n",
      "\n",
      "    accuracy                           0.70     30000\n",
      "   macro avg       0.48      0.40      0.41     30000\n",
      "weighted avg       0.64      0.70      0.66     30000\n",
      "\n",
      "\n",
      "30000/30000 [==============================] - 7s 239us/step\n",
      "Loss: 0.9680330053647359\n",
      "Accuracy: 0.6717666387557983\n",
      "Others: [0.7972701191902161, 0.4887000024318695]\n",
      "[[0.03986667 0.00233333 0.00373333 0.00246667 0.0416    ]\n",
      " [0.0126     0.00173333 0.00543333 0.0029     0.0287    ]\n",
      " [0.0074     0.00293333 0.00953333 0.00926667 0.0474    ]\n",
      " [0.00443333 0.00106667 0.0038     0.01146667 0.12233333]\n",
      " [0.01126667 0.00183333 0.00313333 0.0136     0.60916667]]\n",
      "\n",
      "              precision    recall  f1-score   support\n",
      "\n",
      "           0       0.53      0.44      0.48      2700\n",
      "           1       0.18      0.03      0.06      1541\n",
      "           2       0.37      0.12      0.19      2296\n",
      "           3       0.29      0.08      0.13      4293\n",
      "           4       0.72      0.95      0.82     19170\n",
      "\n",
      "    accuracy                           0.67     30000\n",
      "   macro avg       0.42      0.33      0.33     30000\n",
      "weighted avg       0.58      0.67      0.60     30000\n",
      "\n",
      "\n"
     ]
    },
    {
     "data": {
      "text/plain": [
       "([0.9680330053647359,\n",
       "  0.6717666387557983,\n",
       "  0.7972701191902161,\n",
       "  0.4887000024318695],\n",
       " array([0, 2, 4, ..., 0, 4, 4]))"
      ]
     },
     "execution_count": 43,
     "metadata": {},
     "output_type": "execute_result"
    }
   ],
   "source": [
    "evaluate(m, t_test, y_test)\n",
    "evaluate(m, s_test, y_test)"
   ]
  },
  {
   "cell_type": "code",
   "execution_count": 57,
   "metadata": {},
   "outputs": [],
   "source": [
    "def make_LSTMDeep(embedding = embedding, train_emb = True, load = False, model = \"\", drop = 0.2):    \n",
    "    m = Sequential()    \n",
    "    #Embedding\n",
    "    m.add(embedding.get_keras_embedding(train_emb)) \n",
    "\n",
    "    m.add(LSTM(256, return_sequences=False))\n",
    "\n",
    "    m.add(Dense(100, activation='relu'))\n",
    "    m.add(keras.layers.Dropout(drop))\n",
    "    m.add(Dense(50, activation='relu'))\n",
    "    m.add(keras.layers.Dropout(drop))\n",
    "    m.add(Dense(50, activation='relu'))\n",
    "    m.add(keras.layers.Dropout(drop))\n",
    "    m.add(Dense(25, activation='relu'))\n",
    "    m.add(keras.layers.Dropout(drop))\n",
    "    m.add(Dense(class_size, activation='softmax'))\n",
    "\n",
    "    #from documentation: metrics is CategoricalAccuray because of the loss function\n",
    "    m.compile(optimizer='adam', loss='categorical_crossentropy', metrics=['accuracy', keras.metrics.Precision(), keras.metrics.Recall()])\n",
    "    m.summary()\n",
    "    if load:\n",
    "        if model == \"\":\n",
    "            raise ValueError(\"Invalid model name\")\n",
    "        m.load_weights(model_path+model)\n",
    "    return m\n",
    "\n",
    "#m.load_weights(model_path + \"LSTMDeep10_emb.h5\")"
   ]
  },
  {
   "cell_type": "code",
   "execution_count": null,
   "metadata": {},
   "outputs": [],
   "source": [
    "m= make_LSTMDeep()"
   ]
  },
  {
   "cell_type": "code",
   "execution_count": 23,
   "metadata": {
    "scrolled": false
   },
   "outputs": [
    {
     "name": "stdout",
     "output_type": "stream",
     "text": [
      "Training...\n"
     ]
    },
    {
     "name": "stderr",
     "output_type": "stream",
     "text": [
      "/home/gianluca/anaconda3/envs/NLP/lib/python3.7/site-packages/tensorflow_core/python/framework/indexed_slices.py:433: UserWarning: Converting sparse IndexedSlices to a dense Tensor of unknown shape. This may consume a large amount of memory.\n",
      "  \"Converting sparse IndexedSlices to a dense Tensor of unknown shape. \"\n"
     ]
    },
    {
     "name": "stdout",
     "output_type": "stream",
     "text": [
      "Train on 30000 samples, validate on 30000 samples\n",
      "Epoch 1/2\n",
      "30000/30000 [==============================] - 957s 32ms/step - loss: 1.0246 - accuracy: 0.6534 - precision_1: 0.7584 - recall_1: 0.5066 - val_loss: 0.9233 - val_accuracy: 0.6688 - val_precision_1: 0.8294 - val_recall_1: 0.5242\n",
      "Epoch 2/2\n",
      "30000/30000 [==============================] - 884s 29ms/step - loss: 0.8532 - accuracy: 0.6897 - precision_1: 0.8069 - recall_1: 0.5935 - val_loss: 0.8216 - val_accuracy: 0.6951 - val_precision_1: 0.8069 - val_recall_1: 0.6115\n",
      "--Done: 1841.9989867210388 s\n"
     ]
    },
    {
     "data": {
      "image/png": "[encoded data removed]",
      "text/plain": [
       "<Figure size 432x288 with 1 Axes>"
      ]
     },
     "metadata": {
      "needs_background": "light"
     },
     "output_type": "display_data"
    },
    {
     "data": {
      "image/png": "[encoded data removed]",
      "text/plain": [
       "<Figure size 432x288 with 1 Axes>"
      ]
     },
     "metadata": {
      "needs_background": "light"
     },
     "output_type": "display_data"
    }
   ],
   "source": [
    "history_LSTMDeep = train(m, t_train, y_train, t_val, y_val, epochs)\n",
    "save(m, \"LSTMDeep_ep{}_emb.h5\".format(epochs))\n",
    "plot_train(history_LSTMDeep)"
   ]
  },
  {
   "cell_type": "code",
   "execution_count": 24,
   "metadata": {},
   "outputs": [
    {
     "name": "stdout",
     "output_type": "stream",
     "text": [
      "30000/30000 [==============================] - 195s 7ms/step\n",
      "Loss: 0.8295222302436829\n",
      "Accuracy: 0.6883000135421753\n",
      "Others: [0.8029410243034363, 0.6042666435241699]\n",
      "[[7.33333333e-02 0.00000000e+00 5.00000000e-04 0.00000000e+00\n",
      "  1.61666667e-02]\n",
      " [3.29000000e-02 0.00000000e+00 9.66666667e-04 0.00000000e+00\n",
      "  1.75000000e-02]\n",
      " [3.00000000e-02 0.00000000e+00 3.16666667e-03 0.00000000e+00\n",
      "  4.33666667e-02]\n",
      " [1.71333333e-02 0.00000000e+00 1.56666667e-03 0.00000000e+00\n",
      "  1.24400000e-01]\n",
      " [2.56333333e-02 0.00000000e+00 1.56666667e-03 0.00000000e+00\n",
      "  6.11800000e-01]]\n",
      "\n",
      "              precision    recall  f1-score   support\n",
      "\n",
      "           0       0.41      0.81      0.55      2700\n",
      "           1       0.00      0.00      0.00      1541\n",
      "           2       0.41      0.04      0.08      2296\n",
      "           3       0.00      0.00      0.00      4293\n",
      "           4       0.75      0.96      0.84     19170\n",
      "\n",
      "    accuracy                           0.69     30000\n",
      "   macro avg       0.31      0.36      0.29     30000\n",
      "weighted avg       0.55      0.69      0.59     30000\n",
      "\n",
      "\n"
     ]
    },
    {
     "name": "stderr",
     "output_type": "stream",
     "text": [
      "/home/gianluca/anaconda3/envs/NLP/lib/python3.7/site-packages/sklearn/metrics/_classification.py:1272: UndefinedMetricWarning: Precision and F-score are ill-defined and being set to 0.0 in labels with no predicted samples. Use `zero_division` parameter to control this behavior.\n",
      "  _warn_prf(average, modifier, msg_start, len(result))\n"
     ]
    },
    {
     "data": {
      "text/plain": [
       "([0.8295222302436829,\n",
       "  0.6883000135421753,\n",
       "  0.8029410243034363,\n",
       "  0.6042666435241699],\n",
       " array([0, 4, 4, ..., 0, 4, 4]))"
      ]
     },
     "execution_count": 24,
     "metadata": {},
     "output_type": "execute_result"
    }
   ],
   "source": [
    "evaluate(m, t_test, y_test)"
   ]
  },
  {
   "cell_type": "code",
   "execution_count": 25,
   "metadata": {},
   "outputs": [
    {
     "name": "stdout",
     "output_type": "stream",
     "text": [
      "30000/30000 [==============================] - 6s 215us/step\n",
      "Loss: 0.9189442896525065\n",
      "Accuracy: 0.6708999872207642\n",
      "Others: [0.7756327390670776, 0.5598000288009644]\n",
      "[[4.87000000e-02 0.00000000e+00 8.66666667e-04 0.00000000e+00\n",
      "  4.04333333e-02]\n",
      " [1.97666667e-02 0.00000000e+00 1.26666667e-03 0.00000000e+00\n",
      "  3.03333333e-02]\n",
      " [1.88333333e-02 0.00000000e+00 1.86666667e-03 0.00000000e+00\n",
      "  5.58333333e-02]\n",
      " [1.00666667e-02 0.00000000e+00 1.03333333e-03 0.00000000e+00\n",
      "  1.32000000e-01]\n",
      " [1.80666667e-02 0.00000000e+00 6.00000000e-04 0.00000000e+00\n",
      "  6.20333333e-01]]\n",
      "\n",
      "              precision    recall  f1-score   support\n",
      "\n",
      "           0       0.42      0.54      0.47      2700\n",
      "           1       0.00      0.00      0.00      1541\n",
      "           2       0.33      0.02      0.05      2296\n",
      "           3       0.00      0.00      0.00      4293\n",
      "           4       0.71      0.97      0.82     19170\n",
      "\n",
      "    accuracy                           0.67     30000\n",
      "   macro avg       0.29      0.31      0.27     30000\n",
      "weighted avg       0.51      0.67      0.57     30000\n",
      "\n",
      "\n"
     ]
    },
    {
     "data": {
      "text/plain": [
       "([0.9189442896525065,\n",
       "  0.6708999872207642,\n",
       "  0.7756327390670776,\n",
       "  0.5598000288009644],\n",
       " array([0, 4, 4, ..., 0, 4, 4]))"
      ]
     },
     "execution_count": 25,
     "metadata": {},
     "output_type": "execute_result"
    }
   ],
   "source": [
    "evaluate(m, s_test, y_test)"
   ]
  },
  {
   "cell_type": "code",
   "execution_count": 34,
   "metadata": {},
   "outputs": [
    {
     "data": {
      "image/png": "[encoded data removed]",
      "text/plain": [
       "<Figure size 432x288 with 1 Axes>"
      ]
     },
     "metadata": {
      "needs_background": "light"
     },
     "output_type": "display_data"
    },
    {
     "data": {
      "image/png": "[encoded data removed]",
      "text/plain": [
       "<Figure size 432x288 with 1 Axes>"
      ]
     },
     "metadata": {
      "needs_background": "light"
     },
     "output_type": "display_data"
    }
   ],
   "source": [
    "m2 = make_LSTMDeep()\n",
    "print(\"Training...\")\n",
    "t = time()\n",
    "history_deep2 = m2.fit(np.concatenate((t_train, np.pad(s_train, [[0,0],[t_train.shape[1]-s_train.shape[1],0]])), axis=0),\n",
    "                       np.concatenate((y_train, y_train), axis=0), \n",
    "       validation_data=(np.concatenate((t_val, np.pad(s_val, [[0,0],[t_val.shape[1]-s_val.shape[1],0]])), axis=0),\n",
    "                        np.concatenate((y_val, y_val), axis=0)),\n",
    "       epochs=epochs, \n",
    "       workers = -1,\n",
    "      shuffle = True)\n",
    "print(\"--Done:\", time()-t,\"s\")   \n",
    "save(m2, \"LSTMDeep2ep{}_emb.h5\".format(epochs))\n",
    "    \n",
    "plot_train(history_deep2)"
   ]
  },
  {
   "cell_type": "code",
   "execution_count": 35,
   "metadata": {},
   "outputs": [
    {
     "name": "stdout",
     "output_type": "stream",
     "text": [
      "30000/30000 [==============================] - 7s 217us/step\n",
      "Loss: 0.8386892484664917\n",
      "Accuracy: 0.6845666766166687\n",
      "Others: [0.7841619253158569, 0.6146000027656555]\n",
      "[[5.16666667e-02 0.00000000e+00 1.53333333e-03 0.00000000e+00\n",
      "  3.68000000e-02]\n",
      " [2.46666667e-02 0.00000000e+00 2.10000000e-03 0.00000000e+00\n",
      "  2.46000000e-02]\n",
      " [1.85000000e-02 0.00000000e+00 4.40000000e-03 6.66666667e-05\n",
      "  5.35666667e-02]\n",
      " [5.93333333e-03 0.00000000e+00 2.06666667e-03 6.66666667e-05\n",
      "  1.35033333e-01]\n",
      " [9.00000000e-03 0.00000000e+00 1.56666667e-03 0.00000000e+00\n",
      "  6.28433333e-01]]\n",
      "\n",
      "              precision    recall  f1-score   support\n",
      "\n",
      "           0       0.47      0.57      0.52      2700\n",
      "           1       0.00      0.00      0.00      1541\n",
      "           2       0.38      0.06      0.10      2296\n",
      "           3       0.50      0.00      0.00      4293\n",
      "           4       0.72      0.98      0.83     19170\n",
      "\n",
      "    accuracy                           0.68     30000\n",
      "   macro avg       0.41      0.32      0.29     30000\n",
      "weighted avg       0.60      0.68      0.58     30000\n",
      "\n",
      "\n"
     ]
    },
    {
     "name": "stderr",
     "output_type": "stream",
     "text": [
      "/home/gianluca/anaconda3/envs/NLP/lib/python3.7/site-packages/sklearn/metrics/_classification.py:1272: UndefinedMetricWarning: Precision and F-score are ill-defined and being set to 0.0 in labels with no predicted samples. Use `zero_division` parameter to control this behavior.\n",
      "  _warn_prf(average, modifier, msg_start, len(result))\n"
     ]
    },
    {
     "name": "stdout",
     "output_type": "stream",
     "text": [
      "30000/30000 [==============================] - 186s 6ms/step\n",
      "Loss: 0.7979303022702535\n",
      "Accuracy: 0.6970666646957397\n",
      "Others: [0.8105267882347107, 0.6118666529655457]\n",
      "[[6.24333333e-02 0.00000000e+00 3.86666667e-03 0.00000000e+00\n",
      "  2.37000000e-02]\n",
      " [2.53000000e-02 0.00000000e+00 4.63333333e-03 0.00000000e+00\n",
      "  2.14333333e-02]\n",
      " [1.88666667e-02 0.00000000e+00 7.76666667e-03 3.33333333e-05\n",
      "  4.98666667e-02]\n",
      " [7.20000000e-03 0.00000000e+00 4.86666667e-03 3.33333333e-05\n",
      "  1.31000000e-01]\n",
      " [9.00000000e-03 0.00000000e+00 3.16666667e-03 0.00000000e+00\n",
      "  6.26833333e-01]]\n",
      "\n",
      "              precision    recall  f1-score   support\n",
      "\n",
      "           0       0.51      0.69      0.59      2700\n",
      "           1       0.00      0.00      0.00      1541\n",
      "           2       0.32      0.10      0.15      2296\n",
      "           3       0.50      0.00      0.00      4293\n",
      "           4       0.74      0.98      0.84     19170\n",
      "\n",
      "    accuracy                           0.70     30000\n",
      "   macro avg       0.41      0.36      0.32     30000\n",
      "weighted avg       0.61      0.70      0.60     30000\n",
      "\n",
      "\n"
     ]
    },
    {
     "data": {
      "text/plain": [
       "([0.7979303022702535,\n",
       "  0.6970666646957397,\n",
       "  0.8105267882347107,\n",
       "  0.6118666529655457],\n",
       " array([0, 4, 4, ..., 0, 4, 4]))"
      ]
     },
     "execution_count": 35,
     "metadata": {},
     "output_type": "execute_result"
    }
   ],
   "source": [
    "evaluate(m2, s_test, y_test)\n",
    "evaluate(m2, t_test, y_test)"
   ]
  },
  {
   "cell_type": "code",
   "execution_count": 41,
   "metadata": {
    "scrolled": false
   },
   "outputs": [
    {
     "data": {
      "image/png": "[encoded data removed]",
      "text/plain": [
       "<Figure size 432x288 with 1 Axes>"
      ]
     },
     "metadata": {
      "needs_background": "light"
     },
     "output_type": "display_data"
    },
    {
     "data": {
      "image/png": "[encoded data removed]",
      "text/plain": [
       "<Figure size 432x288 with 1 Axes>"
      ]
     },
     "metadata": {
      "needs_background": "light"
     },
     "output_type": "display_data"
    }
   ],
   "source": []
  },
  {
   "cell_type": "code",
   "execution_count": 256,
   "metadata": {},
   "outputs": [
    {
     "name": "stdout",
     "output_type": "stream",
     "text": [
      "Model: \"sequential_2\"\n",
      "_________________________________________________________________\n",
      "Layer (type)                 Output Shape              Param #   \n",
      "=================================================================\n",
      "embedding_2 (Embedding)      (None, None, 50)          20000000  \n",
      "_________________________________________________________________\n",
      "lstm_2 (LSTM)                (None, 256)               314368    \n",
      "_________________________________________________________________\n",
      "dense_5 (Dense)              (None, 100)               25700     \n",
      "_________________________________________________________________\n",
      "dropout_5 (Dropout)          (None, 100)               0         \n",
      "_________________________________________________________________\n",
      "dense_6 (Dense)              (None, 50)                5050      \n",
      "_________________________________________________________________\n",
      "dropout_6 (Dropout)          (None, 50)                0         \n",
      "_________________________________________________________________\n",
      "dense_7 (Dense)              (None, 50)                2550      \n",
      "_________________________________________________________________\n",
      "dropout_7 (Dropout)          (None, 50)                0         \n",
      "_________________________________________________________________\n",
      "dense_8 (Dense)              (None, 25)                1275      \n",
      "_________________________________________________________________\n",
      "dropout_8 (Dropout)          (None, 25)                0         \n",
      "_________________________________________________________________\n",
      "dense_9 (Dense)              (None, 5)                 130       \n",
      "=================================================================\n",
      "Total params: 20,349,073\n",
      "Trainable params: 20,349,073\n",
      "Non-trainable params: 0\n",
      "_________________________________________________________________\n"
     ]
    }
   ],
   "source": [
    "m = make_LSTMDeep(drop = 0.4)"
   ]
  },
  {
   "cell_type": "code",
   "execution_count": 257,
   "metadata": {
    "scrolled": false
   },
   "outputs": [
    {
     "name": "stdout",
     "output_type": "stream",
     "text": [
      "Training...\n"
     ]
    },
    {
     "name": "stderr",
     "output_type": "stream",
     "text": [
      "/home/gianluca/anaconda3/envs/NLP/lib/python3.7/site-packages/tensorflow_core/python/framework/indexed_slices.py:433: UserWarning: Converting sparse IndexedSlices to a dense Tensor of unknown shape. This may consume a large amount of memory.\n",
      "  \"Converting sparse IndexedSlices to a dense Tensor of unknown shape. \"\n"
     ]
    },
    {
     "name": "stdout",
     "output_type": "stream",
     "text": [
      "Train on 30000 samples, validate on 30000 samples\n",
      "Epoch 1/5\n",
      "30000/30000 [==============================] - 905s 30ms/step - loss: 1.0726 - accuracy: 0.6351 - precision_1: 0.7699 - recall_1: 0.4493 - val_loss: 0.9358 - val_accuracy: 0.6488 - val_precision_1: 0.7695 - val_recall_1: 0.5884\n",
      "Epoch 2/5\n",
      "30000/30000 [==============================] - 863s 29ms/step - loss: 0.9052 - accuracy: 0.6735 - precision_1: 0.8085 - recall_1: 0.5588 - val_loss: 0.8483 - val_accuracy: 0.6931 - val_precision_1: 0.8013 - val_recall_1: 0.5958\n",
      "Epoch 3/5\n",
      "30000/30000 [==============================] - 892s 30ms/step - loss: 0.8192 - accuracy: 0.6945 - precision_1: 0.8155 - recall_1: 0.6028 - val_loss: 0.8477 - val_accuracy: 0.6935 - val_precision_1: 0.8329 - val_recall_1: 0.5802\n",
      "Epoch 4/5\n",
      "30000/30000 [==============================] - 1052s 35ms/step - loss: 0.7523 - accuracy: 0.7063 - precision_1: 0.8307 - recall_1: 0.6228 - val_loss: 0.8842 - val_accuracy: 0.6912 - val_precision_1: 0.7846 - val_recall_1: 0.6377\n",
      "Epoch 5/5\n",
      "30000/30000 [==============================] - 1017s 34ms/step - loss: 0.6887 - accuracy: 0.7223 - precision_1: 0.8489 - recall_1: 0.6345 - val_loss: 0.9309 - val_accuracy: 0.6935 - val_precision_1: 0.8307 - val_recall_1: 0.5849\n",
      "--Done: 4730.9361028671265 s\n"
     ]
    },
    {
     "data": {
      "image/png": "[encoded data removed]",
      "text/plain": [
       "<Figure size 432x288 with 1 Axes>"
      ]
     },
     "metadata": {
      "needs_background": "light"
     },
     "output_type": "display_data"
    },
    {
     "data": {
      "image/png": "[encoded data removed]",
      "text/plain": [
       "<Figure size 432x288 with 1 Axes>"
      ]
     },
     "metadata": {
      "needs_background": "light"
     },
     "output_type": "display_data"
    },
    {
     "name": "stdout",
     "output_type": "stream",
     "text": [
      "30000/30000 [==============================] - 6s 192us/step\n",
      "Loss: 1.1573166323979696\n",
      "Accuracy: 0.630466639995575\n",
      "Others: [0.7803665399551392, 0.5493000149726868]\n",
      "[[5.31000000e-02 0.00000000e+00 1.56666667e-02 7.66666667e-04\n",
      "  2.04666667e-02]\n",
      " [2.29000000e-02 0.00000000e+00 1.31000000e-02 5.33333333e-04\n",
      "  1.48333333e-02]\n",
      " [2.22666667e-02 0.00000000e+00 2.05333333e-02 1.73333333e-03\n",
      "  3.20000000e-02]\n",
      " [1.33000000e-02 0.00000000e+00 1.84333333e-02 1.83333333e-03\n",
      "  1.09533333e-01]\n",
      " [4.25000000e-02 0.00000000e+00 3.89333333e-02 2.56666667e-03\n",
      "  5.55000000e-01]]\n",
      "\n",
      "              precision    recall  f1-score   support\n",
      "\n",
      "           0       0.34      0.59      0.44      2700\n",
      "           1       0.00      0.00      0.00      1541\n",
      "           2       0.19      0.27      0.22      2296\n",
      "           3       0.25      0.01      0.02      4293\n",
      "           4       0.76      0.87      0.81     19170\n",
      "\n",
      "    accuracy                           0.63     30000\n",
      "   macro avg       0.31      0.35      0.30     30000\n",
      "weighted avg       0.57      0.63      0.58     30000\n",
      "\n",
      "\n"
     ]
    },
    {
     "name": "stderr",
     "output_type": "stream",
     "text": [
      "/home/gianluca/anaconda3/envs/NLP/lib/python3.7/site-packages/sklearn/metrics/_classification.py:1272: UndefinedMetricWarning: Precision and F-score are ill-defined and being set to 0.0 in labels with no predicted samples. Use `zero_division` parameter to control this behavior.\n",
      "  _warn_prf(average, modifier, msg_start, len(result))\n"
     ]
    },
    {
     "name": "stdout",
     "output_type": "stream",
     "text": [
      "30000/30000 [==============================] - 184s 6ms/step\n",
      "Loss: 0.9522764639854431\n",
      "Accuracy: 0.6908000111579895\n",
      "Others: [0.8250237703323364, 0.5780666470527649]\n",
      "[[0.05856667 0.         0.0158     0.00113333 0.0145    ]\n",
      " [0.02116667 0.         0.016      0.00166667 0.01253333]\n",
      " [0.01366667 0.         0.02673333 0.0035     0.03263333]\n",
      " [0.00496667 0.         0.01896667 0.0043     0.11486667]\n",
      " [0.00813333 0.         0.0249     0.00476667 0.6012    ]]\n",
      "\n",
      "              precision    recall  f1-score   support\n",
      "\n",
      "           0       0.55      0.65      0.60      2700\n",
      "           1       0.00      0.00      0.00      1541\n",
      "           2       0.26      0.35      0.30      2296\n",
      "           3       0.28      0.03      0.05      4293\n",
      "           4       0.78      0.94      0.85     19170\n",
      "\n",
      "    accuracy                           0.69     30000\n",
      "   macro avg       0.37      0.39      0.36     30000\n",
      "weighted avg       0.60      0.69      0.63     30000\n",
      "\n",
      "\n"
     ]
    },
    {
     "data": {
      "text/plain": [
       "([0.9522764639854431,\n",
       "  0.6908000111579895,\n",
       "  0.8250237703323364,\n",
       "  0.5780666470527649],\n",
       " array([0, 4, 4, ..., 0, 4, 4]))"
      ]
     },
     "execution_count": 257,
     "metadata": {},
     "output_type": "execute_result"
    }
   ],
   "source": [
    "history_LSTMDeepDrop = train(m, t_train, y_train, t_val, y_val, 5)\n",
    "save(m, \"LSTMDeepDrop{}_emb.h5\".format(5))\n",
    "plot_train(history_LSTMDeepDrop)\n",
    "evaluate(m, s_test, y_test)\n",
    "evaluate(m, t_test, y_test)"
   ]
  },
  {
   "cell_type": "code",
   "execution_count": 54,
   "metadata": {},
   "outputs": [
    {
     "name": "stdout",
     "output_type": "stream",
     "text": [
      "Model: \"sequential_2\"\n",
      "_________________________________________________________________\n",
      "Layer (type)                 Output Shape              Param #   \n",
      "=================================================================\n",
      "embedding_2 (Embedding)      (None, None, 20)          8014260   \n",
      "_________________________________________________________________\n",
      "lstm_2 (LSTM)                (None, 256)               283648    \n",
      "_________________________________________________________________\n",
      "dense_6 (Dense)              (None, 100)               25700     \n",
      "_________________________________________________________________\n",
      "dropout_5 (Dropout)          (None, 100)               0         \n",
      "_________________________________________________________________\n",
      "dense_7 (Dense)              (None, 50)                5050      \n",
      "_________________________________________________________________\n",
      "dropout_6 (Dropout)          (None, 50)                0         \n",
      "_________________________________________________________________\n",
      "dense_8 (Dense)              (None, 50)                2550      \n",
      "_________________________________________________________________\n",
      "dropout_7 (Dropout)          (None, 50)                0         \n",
      "_________________________________________________________________\n",
      "dense_9 (Dense)              (None, 25)                1275      \n",
      "_________________________________________________________________\n",
      "dropout_8 (Dropout)          (None, 25)                0         \n",
      "_________________________________________________________________\n",
      "dense_10 (Dense)             (None, 5)                 130       \n",
      "=================================================================\n",
      "Total params: 8,332,613\n",
      "Trainable params: 8,332,613\n",
      "Non-trainable params: 0\n",
      "_________________________________________________________________\n"
     ]
    }
   ],
   "source": [
    "def make_LSTMEmb(emb_in_size, emb_out_size, load = False, model = \"\", drop = 0.2):    \n",
    "    m = Sequential()    \n",
    "    m.add(Embedding(emb_in_size, emb_out_size))\n",
    "    m.add(LSTM(256, return_sequences=False))\n",
    "\n",
    "    m.add(Dense(100, activation='relu'))\n",
    "    m.add(keras.layers.Dropout(drop))\n",
    "    m.add(Dense(50, activation='relu'))\n",
    "    m.add(keras.layers.Dropout(drop))\n",
    "    m.add(Dense(50, activation='relu'))\n",
    "    m.add(keras.layers.Dropout(drop))\n",
    "    m.add(Dense(25, activation='relu'))\n",
    "    m.add(keras.layers.Dropout(drop))\n",
    "    m.add(Dense(class_size, activation='softmax'))\n",
    "\n",
    "    #from documentation: metrics is CategoricalAccuray because of the loss function\n",
    "    m.compile(optimizer='adam', loss='categorical_crossentropy', metrics=['accuracy', keras.metrics.Precision(), keras.metrics.Recall()])\n",
    "    m.summary()\n",
    "    if load:\n",
    "        if model == \"\":\n",
    "            raise ValueError(\"Invalid model name\")\n",
    "        m.load_weights(model_path+model)\n",
    "    return m\n",
    "          \n",
    "m = make_LSTMEmb(len(tk.word_index)+1000, 20)                "
   ]
  },
  {
   "cell_type": "code",
   "execution_count": 55,
   "metadata": {
    "scrolled": false
   },
   "outputs": [
    {
     "name": "stdout",
     "output_type": "stream",
     "text": [
      "Training...\n"
     ]
    },
    {
     "name": "stderr",
     "output_type": "stream",
     "text": [
      "/home/gianluca/anaconda3/envs/NLP/lib/python3.7/site-packages/tensorflow_core/python/framework/indexed_slices.py:433: UserWarning: Converting sparse IndexedSlices to a dense Tensor of unknown shape. This may consume a large amount of memory.\n",
      "  \"Converting sparse IndexedSlices to a dense Tensor of unknown shape. \"\n"
     ]
    },
    {
     "name": "stdout",
     "output_type": "stream",
     "text": [
      "Train on 30000 samples, validate on 30000 samples\n",
      "Epoch 1/5\n",
      "30000/30000 [==============================] - 2130s 71ms/step - loss: 0.9953 - accuracy: 0.6480 - precision_2: 0.7735 - recall_2: 0.5259 - val_loss: 0.8827 - val_accuracy: 0.6840 - val_precision_2: 0.7801 - val_recall_2: 0.5988\n",
      "Epoch 2/5\n",
      "30000/30000 [==============================] - 2319s 77ms/step - loss: 0.8277 - accuracy: 0.6925 - precision_2: 0.8117 - recall_2: 0.6001 - val_loss: 0.8778 - val_accuracy: 0.6866 - val_precision_2: 0.7929 - val_recall_2: 0.5974\n",
      "Epoch 3/5\n",
      "30000/30000 [==============================] - 2268s 76ms/step - loss: 0.7411 - accuracy: 0.7088 - precision_2: 0.8342 - recall_2: 0.6244 - val_loss: 0.8780 - val_accuracy: 0.6904 - val_precision_2: 0.8005 - val_recall_2: 0.6088\n",
      "Epoch 4/5\n",
      "30000/30000 [==============================] - 2228s 74ms/step - loss: 0.6632 - accuracy: 0.7363 - precision_2: 0.8595 - recall_2: 0.6398 - val_loss: 0.9196 - val_accuracy: 0.6862 - val_precision_2: 0.7866 - val_recall_2: 0.6159\n",
      "Epoch 5/5\n",
      "30000/30000 [==============================] - 2255s 75ms/step - loss: 0.5838 - accuracy: 0.7679 - precision_2: 0.8689 - recall_2: 0.6722 - val_loss: 1.0489 - val_accuracy: 0.6777 - val_precision_2: 0.8068 - val_recall_2: 0.5920\n",
      "--Done: 11201.297724246979 s\n"
     ]
    }
   ],
   "source": [
    "history_LSTMEmb = train(m, t_train, y_train, t_val, y_val, 5)\n",
    "save(m, \"LSTMEmb{}.h5\".format(5))"
   ]
  },
  {
   "cell_type": "code",
   "execution_count": 56,
   "metadata": {
    "scrolled": false
   },
   "outputs": [
    {
     "name": "stdout",
     "output_type": "stream",
     "text": [
      "30000/30000 [==============================] - 633s 21ms/step\n",
      "Loss: 1.0865196674982707\n",
      "Accuracy: 0.6736000180244446\n",
      "Others: [0.7955529689788818, 0.5879666805267334]\n",
      "[[5.27333333e-02 2.00000000e-04 1.62000000e-02 4.00000000e-03\n",
      "  1.68666667e-02]\n",
      " [1.73666667e-02 2.33333333e-04 1.66000000e-02 4.60000000e-03\n",
      "  1.25666667e-02]\n",
      " [1.06666667e-02 3.00000000e-04 2.75333333e-02 1.10000000e-02\n",
      "  2.70333333e-02]\n",
      " [5.23333333e-03 2.00000000e-04 1.95666667e-02 2.20666667e-02\n",
      "  9.60333333e-02]\n",
      " [1.09000000e-02 6.66666667e-05 2.58666667e-02 3.11333333e-02\n",
      "  5.71033333e-01]]\n",
      "\n",
      "              precision    recall  f1-score   support\n",
      "\n",
      "           0       0.54      0.59      0.56      2700\n",
      "           1       0.23      0.00      0.01      1541\n",
      "           2       0.26      0.36      0.30      2296\n",
      "           3       0.30      0.15      0.20      4293\n",
      "           4       0.79      0.89      0.84     19170\n",
      "\n",
      "    accuracy                           0.67     30000\n",
      "   macro avg       0.43      0.40      0.38     30000\n",
      "weighted avg       0.63      0.67      0.64     30000\n",
      "\n",
      "\n",
      "30000/30000 [==============================] - 13s 437us/step\n",
      "Loss: 1.5893288244247437\n",
      "Accuracy: 0.33196666836738586\n",
      "Others: [0.6446167826652527, 0.188400000333786]\n",
      "[[5.81000000e-02 1.00000000e-04 1.82666667e-02 4.23333333e-03\n",
      "  9.30000000e-03]\n",
      " [2.64000000e-02 3.33333333e-05 1.51333333e-02 4.13333333e-03\n",
      "  5.66666667e-03]\n",
      " [2.50000000e-02 3.33333333e-05 2.89000000e-02 9.66666667e-03\n",
      "  1.29333333e-02]\n",
      " [2.08333333e-02 6.66666667e-05 4.41000000e-02 3.79666667e-02\n",
      "  4.01333333e-02]\n",
      " [7.45000000e-02 3.66666667e-04 1.48366667e-01 2.08800000e-01\n",
      "  2.06966667e-01]]\n",
      "\n",
      "              precision    recall  f1-score   support\n",
      "\n",
      "           0       0.28      0.65      0.39      2700\n",
      "           1       0.06      0.00      0.00      1541\n",
      "           2       0.11      0.38      0.17      2296\n",
      "           3       0.14      0.27      0.19      4293\n",
      "           4       0.75      0.32      0.45     19170\n",
      "\n",
      "    accuracy                           0.33     30000\n",
      "   macro avg       0.27      0.32      0.24     30000\n",
      "weighted avg       0.54      0.33      0.36     30000\n",
      "\n",
      "\n"
     ]
    },
    {
     "data": {
      "text/plain": [
       "([1.5893288244247437,\n",
       "  0.33196666836738586,\n",
       "  0.6446167826652527,\n",
       "  0.188400000333786],\n",
       " array([3, 3, 0, ..., 0, 4, 2]))"
      ]
     },
     "execution_count": 56,
     "metadata": {},
     "output_type": "execute_result"
    }
   ],
   "source": [
    "#m = make_LSTMEmb(len(tk.word_index), 20, load = True, model = \"LSTMEmb5.h5\")                \n",
    "evaluate(m, t_test, y_test)\n",
    "evaluate(m, s_test, y_test)"
   ]
  },
  {
   "cell_type": "code",
   "execution_count": 57,
   "metadata": {},
   "outputs": [
    {
     "data": {
      "image/png": "[encoded data removed]",
      "text/plain": [
       "<Figure size 432x288 with 1 Axes>"
      ]
     },
     "metadata": {
      "needs_background": "light"
     },
     "output_type": "display_data"
    },
    {
     "data": {
      "image/png": "[encoded data removed]",
      "text/plain": [
       "<Figure size 432x288 with 1 Axes>"
      ]
     },
     "metadata": {
      "needs_background": "light"
     },
     "output_type": "display_data"
    }
   ],
   "source": [
    "plt.plot(history_LSTMEmb.history[\"loss\"], label=\"Loss\")\n",
    "plt.plot(history_LSTMEmb.history[\"val_loss\"], label=\"Val loss\")\n",
    "plt.title(\"Loss\")\n",
    "plt.xlabel(\"Epoch\")    \n",
    "plt.legend()\n",
    "plt.grid()\n",
    "plt.show()\n",
    "plt.plot(history_LSTMEmb.history[\"accuracy\"], label=\"accuracy\")\n",
    "plt.plot(history_LSTMEmb.history[\"val_accuracy\"], label=\"Val accuracy\")\n",
    "plt.plot(history_LSTMEmb.history[\"precision_2\"], label=\"Precision\")\n",
    "plt.plot(history_LSTMEmb.history[\"val_precision_2\"], label=\"Val precision\")\n",
    "plt.plot(history_LSTMEmb.history[\"recall_2\"], label=\"Recall\")\n",
    "plt.plot(history_LSTMEmb.history[\"val_recall_2\"], label=\"Val recall\")\n",
    "plt.xlabel(\"Epoch\")\n",
    "plt.legend()\n",
    "plt.grid()\n",
    "plt.show()"
   ]
  },
  {
   "cell_type": "code",
   "execution_count": 24,
   "metadata": {},
   "outputs": [
    {
     "name": "stdout",
     "output_type": "stream",
     "text": [
      "Model: \"sequential_3\"\n",
      "_________________________________________________________________\n",
      "Layer (type)                 Output Shape              Param #   \n",
      "=================================================================\n",
      "embedding_3 (Embedding)      (None, None, 50)          20000000  \n",
      "_________________________________________________________________\n",
      "lstm_3 (LSTM)                (None, 256)               314368    \n",
      "_________________________________________________________________\n",
      "dense_5 (Dense)              (None, 75)                19275     \n",
      "_________________________________________________________________\n",
      "dropout_3 (Dropout)          (None, 75)                0         \n",
      "_________________________________________________________________\n",
      "dense_6 (Dense)              (None, 25)                1900      \n",
      "_________________________________________________________________\n",
      "dropout_4 (Dropout)          (None, 25)                0         \n",
      "_________________________________________________________________\n",
      "dense_7 (Dense)              (None, 5)                 130       \n",
      "=================================================================\n",
      "Total params: 20,335,673\n",
      "Trainable params: 20,335,673\n",
      "Non-trainable params: 0\n",
      "_________________________________________________________________\n"
     ]
    }
   ],
   "source": [
    "def make_LSTM2DenseAlt(embedding = embedding, load = False, model = \"\"):\n",
    "    m = Sequential()    \n",
    "    #Embedding\n",
    "    m.add(embedding.get_keras_embedding(True)) \n",
    "\n",
    "    m.add(LSTM(256, return_sequences=False))\n",
    "\n",
    "    m.add(Dense(75, activation='relu'))\n",
    "    m.add(keras.layers.Dropout(0.2))\n",
    "    m.add(Dense(25, activation='relu'))\n",
    "    m.add(keras.layers.Dropout(0.2))\n",
    "    m.add(Dense(class_size, activation='softmax'))\n",
    "\n",
    "    #from documentation: metrics is CategoricalAccuray because of the loss function\n",
    "    m.compile(optimizer='adam', loss='categorical_crossentropy', metrics=['accuracy'])\n",
    "    m.summary()\n",
    "    if load:\n",
    "        if model == \"\":\n",
    "            raise ValueError(\"Invalid model name\")\n",
    "        m.load_weights(model_path+model)       \n",
    "    return m\n",
    "\n",
    "m= make_LSTM2DenseAlt()"
   ]
  },
  {
   "cell_type": "code",
   "execution_count": 33,
   "metadata": {},
   "outputs": [],
   "source": [
    "history_LSTM2DenseAlt = train(m, t_train, y_train, t_val, y_val, epochs)\n",
    "save(m, \"LSTM2DenseAlt{}_emb.h5\".format(epochs))"
   ]
  },
  {
   "cell_type": "code",
   "execution_count": 31,
   "metadata": {},
   "outputs": [
    {
     "name": "stdout",
     "output_type": "stream",
     "text": [
      "dict_keys(['val_loss', 'val_accuracy', 'loss', 'accuracy'])\n"
     ]
    },
    {
     "data": {
      "image/png": "[encoded data removed]",
      "text/plain": [
       "<Figure size 432x288 with 1 Axes>"
      ]
     },
     "metadata": {
      "needs_background": "light"
     },
     "output_type": "display_data"
    },
    {
     "data": {
      "image/png": "[encoded data removed]",
      "text/plain": [
       "<Figure size 432x288 with 1 Axes>"
      ]
     },
     "metadata": {
      "needs_background": "light"
     },
     "output_type": "display_data"
    }
   ],
   "source": [
    "print(history_LSTM2DenseAlt.history.keys())\n",
    "plt.plot(history_LSTM2DenseAlt.history[\"loss\"], label=\"Loss\")\n",
    "plt.plot(history_LSTM2DenseAlt.history[\"val_loss\"], label=\"Val loss\")\n",
    "plt.title(\"Loss\")\n",
    "plt.xlabel(\"Epoch\")    \n",
    "plt.legend()\n",
    "plt.grid()\n",
    "plt.show()\n",
    "plt.plot(history_LSTM2DenseAlt.history[\"accuracy\"], label=\"accuracy\")\n",
    "plt.plot(history_LSTM2DenseAlt.history[\"val_accuracy\"], label=\"Val accuracy\")\n",
    "plt.xlabel(\"Epoch\")\n",
    "plt.legend()\n",
    "plt.grid()\n",
    "plt.show()"
   ]
  },
  {
   "cell_type": "code",
   "execution_count": 32,
   "metadata": {},
   "outputs": [
    {
     "name": "stdout",
     "output_type": "stream",
     "text": [
      "30000/30000 [==============================] - 205s 7ms/step\n",
      "Loss: 0.8087091227531433\n",
      "Accuracy: 0.699566662311554\n",
      "Others: []\n",
      "[[5.96333333e-02 6.66666667e-04 7.70000000e-03 2.26666667e-03\n",
      "  1.97333333e-02]\n",
      " [1.77000000e-02 5.66666667e-04 9.86666667e-03 5.80000000e-03\n",
      "  1.74333333e-02]\n",
      " [1.06666667e-02 5.00000000e-04 1.27000000e-02 1.35333333e-02\n",
      "  3.91333333e-02]\n",
      " [4.40000000e-03 1.66666667e-04 5.80000000e-03 1.33333333e-02\n",
      "  1.19400000e-01]\n",
      " [1.15333333e-02 6.66666667e-05 4.20000000e-03 9.86666667e-03\n",
      "  6.13333333e-01]]\n",
      "\n",
      "              precision    recall  f1-score   support\n",
      "\n",
      "           0       0.57      0.66      0.61      2700\n",
      "           1       0.29      0.01      0.02      1541\n",
      "           2       0.32      0.17      0.22      2296\n",
      "           3       0.30      0.09      0.14      4293\n",
      "           4       0.76      0.96      0.85     19170\n",
      "\n",
      "    accuracy                           0.70     30000\n",
      "   macro avg       0.45      0.38      0.37     30000\n",
      "weighted avg       0.62      0.70      0.63     30000\n",
      "\n",
      "\n",
      "30000/30000 [==============================] - 8s 265us/step\n",
      "Loss: 0.9282182530403137\n",
      "Accuracy: 0.6527666449546814\n",
      "Others: []\n",
      "[[5.75666667e-02 1.66666667e-04 2.76666667e-03 2.33333333e-04\n",
      "  2.92666667e-02]\n",
      " [2.35666667e-02 2.33333333e-04 4.76666667e-03 4.33333333e-04\n",
      "  2.23666667e-02]\n",
      " [2.16666667e-02 2.66666667e-04 8.30000000e-03 1.90000000e-03\n",
      "  4.44000000e-02]\n",
      " [1.58333333e-02 6.66666667e-05 4.20000000e-03 2.76666667e-03\n",
      "  1.20233333e-01]\n",
      " [5.02666667e-02 0.00000000e+00 4.06666667e-03 7.66666667e-04\n",
      "  5.83900000e-01]]\n",
      "\n",
      "              precision    recall  f1-score   support\n",
      "\n",
      "           0       0.34      0.64      0.44      2700\n",
      "           1       0.32      0.00      0.01      1541\n",
      "           2       0.34      0.11      0.16      2296\n",
      "           3       0.45      0.02      0.04      4293\n",
      "           4       0.73      0.91      0.81     19170\n",
      "\n",
      "    accuracy                           0.65     30000\n",
      "   macro avg       0.44      0.34      0.29     30000\n",
      "weighted avg       0.60      0.65      0.58     30000\n",
      "\n",
      "\n"
     ]
    },
    {
     "data": {
      "text/plain": [
       "([0.9282182530403137, 0.6527666449546814], array([0, 2, 4, ..., 0, 4, 4]))"
      ]
     },
     "execution_count": 32,
     "metadata": {},
     "output_type": "execute_result"
    }
   ],
   "source": [
    "evaluate(m, t_test, y_test)\n",
    "evaluate(m, s_test, y_test)"
   ]
  },
  {
   "cell_type": "markdown",
   "metadata": {},
   "source": [
    "# Comparison with a different dataset"
   ]
  },
  {
   "cell_type": "markdown",
   "metadata": {},
   "source": [
    "To investigate if the heavilty depends on the context or if it can be used in a different context. Does it predict based of words that do not express a preferce?"
   ]
  },
  {
   "cell_type": "code",
   "execution_count": 34,
   "metadata": {},
   "outputs": [],
   "source": [
    "steam = pd.read_csv(alt_data_path)\n",
    "steam = steam[[\"review\", \"recommendation\"]]\n",
    "#Missing data -> empty string\n",
    "steam[\"review\"].fillna(\"\", inplace=True)\n",
    "#No label -> discard\n",
    "steam.dropna()\n",
    "steam[\"y\"] = (steam[\"recommendation\"] == \"Recommended\").astype(int)"
   ]
  },
  {
   "cell_type": "code",
   "execution_count": 35,
   "metadata": {},
   "outputs": [
    {
     "data": {
      "image/png": "[encoded data removed]",
      "text/plain": [
       "<Figure size 432x288 with 1 Axes>"
      ]
     },
     "metadata": {
      "needs_background": "light"
     },
     "output_type": "display_data"
    },
    {
     "name": "stdout",
     "output_type": "stream",
     "text": [
      "Recommendation ([No, Yes]): [131298, 303593]\n",
      "Not recommended:30.19%\n",
      "Recommended:69.81%\n"
     ]
    }
   ],
   "source": [
    "recommendation = plt.hist(steam[\"y\"],bins = [-0.5, 0.5, 0.5,1.5])\n",
    "plt.title(\"Recommendation distribution\")\n",
    "plt.grid()\n",
    "plt.xlabel(\"Recommended\")\n",
    "plt.ylabel(\"Count\")\n",
    "plt.xticks([0,1])\n",
    "plt.show()\n",
    "\n",
    "recommendation = recommendation[0]\n",
    "recommendation = [int(recommendation[i]) for i in range(len(recommendation)) if i%2==0]\n",
    "print(\"Recommendation ([No, Yes]):\", recommendation)\n",
    "print(\"Not recommended:{:.2f}%\".format(100 * recommendation[0] / (recommendation[0] + recommendation[1])))\n",
    "print(\"Recommended:{:.2f}%\".format(100 * recommendation[1] / (recommendation[0] + recommendation[1])))"
   ]
  },
  {
   "cell_type": "code",
   "execution_count": 36,
   "metadata": {},
   "outputs": [
    {
     "data": {
      "image/png": "[encoded data removed]",
      "text/plain": [
       "<Figure size 432x288 with 1 Axes>"
      ]
     },
     "metadata": {
      "needs_background": "light"
     },
     "output_type": "display_data"
    },
    {
     "data": {
      "image/png": "[encoded data removed]",
      "text/plain": [
       "<Figure size 432x288 with 1 Axes>"
      ]
     },
     "metadata": {
      "needs_background": "light"
     },
     "output_type": "display_data"
    }
   ],
   "source": [
    "steam_length = [len(i) for i in steam[\"review\"]]\n",
    "plt.hist(steam_length)\n",
    "plt.title(\"Review length distribution\")\n",
    "plt.grid()\n",
    "plt.xlabel(\"Length\")\n",
    "plt.ylabel(\"Count\")\n",
    "plt.show()\n",
    "\n",
    "plt.hist([i for i in steam_length if i < 500])\n",
    "plt.title(\"Review character length distribution\")\n",
    "plt.grid()\n",
    "plt.xlabel(\"Length\")\n",
    "plt.ylabel(\"Count\")\n",
    "plt.show()"
   ]
  },
  {
   "cell_type": "code",
   "execution_count": 45,
   "metadata": {},
   "outputs": [
    {
     "name": "stdout",
     "output_type": "stream",
     "text": [
      "Model: \"sequential_5\"\n",
      "_________________________________________________________________\n",
      "Layer (type)                 Output Shape              Param #   \n",
      "=================================================================\n",
      "embedding_5 (Embedding)      (None, None, 50)          20000000  \n",
      "_________________________________________________________________\n",
      "lstm_5 (LSTM)                (None, 256)               314368    \n",
      "_________________________________________________________________\n",
      "dense_11 (Dense)             (None, 100)               25700     \n",
      "_________________________________________________________________\n",
      "dropout_5 (Dropout)          (None, 100)               0         \n",
      "_________________________________________________________________\n",
      "dense_12 (Dense)             (None, 50)                5050      \n",
      "_________________________________________________________________\n",
      "dropout_6 (Dropout)          (None, 50)                0         \n",
      "_________________________________________________________________\n",
      "dense_13 (Dense)             (None, 50)                2550      \n",
      "_________________________________________________________________\n",
      "dropout_7 (Dropout)          (None, 50)                0         \n",
      "_________________________________________________________________\n",
      "dense_14 (Dense)             (None, 25)                1275      \n",
      "_________________________________________________________________\n",
      "dropout_8 (Dropout)          (None, 25)                0         \n",
      "_________________________________________________________________\n",
      "dense_15 (Dense)             (None, 5)                 130       \n",
      "=================================================================\n",
      "Total params: 20,349,073\n",
      "Trainable params: 20,349,073\n",
      "Non-trainable params: 0\n",
      "_________________________________________________________________\n"
     ]
    }
   ],
   "source": [
    "steam_model_1 = make_LSTMDeep(load = True, model = \"LSTMDeep_ep2_emb.h5\")\n",
    "steam_model_2 = make_LSTM2Dense(load = True, model = \"LSTM2Dense2_emb.h5\")"
   ]
  },
  {
   "cell_type": "code",
   "execution_count": 41,
   "metadata": {
    "scrolled": true
   },
   "outputs": [
    {
     "name": "stdout",
     "output_type": "stream",
     "text": [
      "Batch 213 out of 212\n",
      "Predicted +: 372350\n"
     ]
    }
   ],
   "source": [
    "#Prediction in [1,2,3,4,5]\n",
    "\n",
    "#Try both models\n",
    "steam_model = steam_model_2\n",
    "y_pred = []\n",
    "batch_size = 2048\n",
    "for i in range(int(np.floor(len(steam[\"review\"]) / batch_size))+1):\n",
    "    batch = get_sequences(tk, steam[\"review\"][i*batch_size:i*batch_size+batch_size], seq_len)\n",
    "    y_batch = steam_model.predict(batch)\n",
    "    if len(y_batch) != 0:\n",
    "        y_pred.extend(y_batch)\n",
    "    print(\"\\rBatch {} out of {}\".format(i+1, int(np.floor(len(steam[\"review\"]) / batch_size))), end=\"\")\n",
    "    \n",
    "\n",
    "#Convert to [0, 1] = [Not recommended, Recommended]\n",
    "y_pred = np.array(y_pred)#[:len(steam[\"y\"])]\n",
    "y_pred_prob = np.array([y_pred[:,0]+y_pred[:,1]+0.5*y_pred[:,2], y_pred[:,3]+y_pred[:,4]+0.5*y_pred[:,2]]).T\n",
    "y_pred_rec = (np.argmax(y_pred_prob,axis = 1)).astype(int)\n",
    "print(\"\\nPredicted +:\", np.sum(y_pred_rec))"
   ]
  },
  {
   "cell_type": "code",
   "execution_count": 42,
   "metadata": {},
   "outputs": [
    {
     "name": "stdout",
     "output_type": "stream",
     "text": [
      "[[0.09783601 0.20407412]\n",
      " [0.04597244 0.65211743]]\n",
      "\n",
      "              precision    recall  f1-score   support\n",
      "\n",
      "           0       0.68      0.32      0.44    131298\n",
      "           1       0.76      0.93      0.84    303593\n",
      "\n",
      "    accuracy                           0.75    434891\n",
      "   macro avg       0.72      0.63      0.64    434891\n",
      "weighted avg       0.74      0.75      0.72    434891\n",
      "\n",
      "\n"
     ]
    }
   ],
   "source": [
    "print(confusion_matrix(steam[\"y\"], y_pred_rec, normalize=\"all\"))\n",
    "print()\n",
    "print(classification_report(steam[\"y\"], y_pred_rec))\n",
    "print()"
   ]
  },
  {
   "cell_type": "markdown",
   "metadata": {},
   "source": [
    "## Extra"
   ]
  },
  {
   "cell_type": "markdown",
   "metadata": {},
   "source": [
    "Predict the sentiment of words that express a preference"
   ]
  },
  {
   "cell_type": "code",
   "execution_count": 63,
   "metadata": {},
   "outputs": [
    {
     "name": "stdout",
     "output_type": "stream",
     "text": [
      "Model: \"sequential_12\"\n",
      "_________________________________________________________________\n",
      "Layer (type)                 Output Shape              Param #   \n",
      "=================================================================\n",
      "embedding_9 (Embedding)      (None, None, 50)          20000000  \n",
      "_________________________________________________________________\n",
      "lstm_9 (LSTM)                (None, 256)               314368    \n",
      "_________________________________________________________________\n",
      "dense_29 (Dense)             (None, 100)               25700     \n",
      "_________________________________________________________________\n",
      "dropout_17 (Dropout)         (None, 100)               0         \n",
      "_________________________________________________________________\n",
      "dense_30 (Dense)             (None, 50)                5050      \n",
      "_________________________________________________________________\n",
      "dropout_18 (Dropout)         (None, 50)                0         \n",
      "_________________________________________________________________\n",
      "dense_31 (Dense)             (None, 50)                2550      \n",
      "_________________________________________________________________\n",
      "dropout_19 (Dropout)         (None, 50)                0         \n",
      "_________________________________________________________________\n",
      "dense_32 (Dense)             (None, 25)                1275      \n",
      "_________________________________________________________________\n",
      "dropout_20 (Dropout)         (None, 25)                0         \n",
      "_________________________________________________________________\n",
      "dense_33 (Dense)             (None, 5)                 130       \n",
      "=================================================================\n",
      "Total params: 20,349,073\n",
      "Trainable params: 20,349,073\n",
      "Non-trainable params: 0\n",
      "_________________________________________________________________\n",
      "Model: \"sequential_13\"\n",
      "_________________________________________________________________\n",
      "Layer (type)                 Output Shape              Param #   \n",
      "=================================================================\n",
      "embedding_10 (Embedding)     (None, None, 50)          20000000  \n",
      "_________________________________________________________________\n",
      "lstm_10 (LSTM)               (None, 128)               91648     \n",
      "_________________________________________________________________\n",
      "dense_34 (Dense)             (None, 75)                9675      \n",
      "_________________________________________________________________\n",
      "dense_35 (Dense)             (None, 25)                1900      \n",
      "_________________________________________________________________\n",
      "dense_36 (Dense)             (None, 5)                 130       \n",
      "=================================================================\n",
      "Total params: 20,103,353\n",
      "Trainable params: 20,103,353\n",
      "Non-trainable params: 0\n",
      "_________________________________________________________________\n"
     ]
    }
   ],
   "source": [
    "m1 = make_LSTMDeep(load= True, model = \"LSTMDeep_ep2_emb.h5\")\n",
    "m2 = make_LSTM2Dense(load= True, model = \"LSTM2Dense2_emb.h5\")"
   ]
  },
  {
   "cell_type": "code",
   "execution_count": 106,
   "metadata": {},
   "outputs": [],
   "source": [
    "text = [\"hate\", \"disgusting\", \"dislike\", \"don't like\", \"fine\", \"quite good\", \"ok\", \"like\", \"love\", \"perfect\"]\n",
    "s_text = get_sequences(tk, text, None)\n",
    "pred1 = m1.predict(s_text)\n",
    "pred2 = m2.predict(s_text)"
   ]
  },
  {
   "cell_type": "code",
   "execution_count": 107,
   "metadata": {},
   "outputs": [
    {
     "name": "stdout",
     "output_type": "stream",
     "text": [
      "hate : 1 1\n",
      "disgusting : 1 1\n",
      "dislike : 1 1\n",
      "don't like : 5 5\n",
      "fine : 5 3\n",
      "quite good : 5 5\n",
      "ok : 1 2\n",
      "like : 5 5\n",
      "love : 5 5\n",
      "perfect : 5 5\n"
     ]
    }
   ],
   "source": [
    "for i in zip(text, pred1, pred2):\n",
    "    #print(i)\n",
    "    print(i[0], \":\", np.argmax(i[1]) + 1, np.argmax(i[2]) + 1)"
   ]
  },
  {
   "cell_type": "code",
   "execution_count": null,
   "metadata": {},
   "outputs": [],
   "source": []
  }
 ],
 "metadata": {
  "kernelspec": {
   "display_name": "Python 3",
   "language": "python",
   "name": "python3"
  },
  "language_info": {
   "codemirror_mode": {
    "name": "ipython",
    "version": 3
   },
   "file_extension": ".py",
   "mimetype": "text/x-python",
   "name": "python",
   "nbconvert_exporter": "python",
   "pygments_lexer": "ipython3",
   "version": "3.7.7"
  }
 },
 "nbformat": 4,
 "nbformat_minor": 2
}
